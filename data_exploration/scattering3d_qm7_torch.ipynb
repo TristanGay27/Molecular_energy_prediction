{
 "cells": [
  {
   "cell_type": "code",
   "execution_count": 1,
   "metadata": {
    "collapsed": false
   },
   "outputs": [],
   "source": [
    "%matplotlib inline"
   ]
  },
  {
   "cell_type": "markdown",
   "metadata": {},
   "source": [
    "\n",
    "# 3D scattering quantum chemistry regression\n",
    "\n",
    "Description:\n",
    "This example trains a classifier combined with a scattering transform to\n",
    "regress molecular atomization energies on the QM7 dataset. Here, we use full\n",
    "charges, valence charges and core charges. A linear regression is deployed.\n",
    "\n",
    "Remarks:\n",
    "The linear regression of the QM7 energies with the given values gives MAE\n",
    "2.75, RMSE 4.18 (kcal.mol-1)\n",
    "\n",
    "Reference:\n",
    "https://arxiv.org/abs/1805.00571\n"
   ]
  },
  {
   "cell_type": "markdown",
   "metadata": {},
   "source": [
    "## Preliminaries\n",
    "\n",
    "First, we import NumPy, PyTorch, and some utility modules.\n",
    "\n"
   ]
  },
  {
   "cell_type": "code",
   "execution_count": 1,
   "metadata": {
    "collapsed": false
   },
   "outputs": [],
   "source": [
    "import numpy as np\n",
    "import torch\n",
    "import time\n",
    "import os"
   ]
  },
  {
   "cell_type": "markdown",
   "metadata": {},
   "source": [
    "We will use scikit-learn to construct a linear model, so we import the\n",
    "necessary modules. In addition, we need to compute distance matrices when\n",
    "normalizing our input features, so we import `pdist` from `scipy.spatial`.\n",
    "\n"
   ]
  },
  {
   "cell_type": "code",
   "execution_count": 2,
   "metadata": {
    "collapsed": false
   },
   "outputs": [],
   "source": [
    "from sklearn import (linear_model, model_selection, preprocessing,\n",
    "                     pipeline)\n",
    "from scipy.spatial.distance import pdist"
   ]
  },
  {
   "cell_type": "markdown",
   "metadata": {},
   "source": [
    "We then import the necessary functionality from Kymatio. First, we need the\n",
    "PyTorch frontend of the 3D solid harmonic cattering transform.\n",
    "\n"
   ]
  },
  {
   "cell_type": "code",
   "execution_count": 3,
   "metadata": {
    "collapsed": false
   },
   "outputs": [],
   "source": [
    "from kymatio.torch import HarmonicScattering3D"
   ]
  },
  {
   "cell_type": "markdown",
   "metadata": {},
   "source": [
    "The 3D transform doesn't compute the zeroth-order coefficients, so we need\n",
    "to import `compute_integrals` to do this manually.\n",
    "\n"
   ]
  },
  {
   "cell_type": "code",
   "execution_count": 4,
   "metadata": {
    "collapsed": false
   },
   "outputs": [],
   "source": [
    "from kymatio.scattering3d.backend.torch_backend \\\n",
    "    import TorchBackend3D"
   ]
  },
  {
   "cell_type": "markdown",
   "metadata": {},
   "source": [
    "To generate the input 3D maps, we need to calculate sums of Gaussians, so we\n",
    "import the function `generate_weighted_sum_of_gaussians`.\n",
    "\n"
   ]
  },
  {
   "cell_type": "code",
   "execution_count": 5,
   "metadata": {
    "collapsed": false
   },
   "outputs": [],
   "source": [
    "from kymatio.scattering3d.utils \\\n",
    "    import generate_weighted_sum_of_gaussians"
   ]
  },
  {
   "cell_type": "markdown",
   "metadata": {},
   "source": [
    "Finally, we import the utility functions that let us access the QM7 dataset\n",
    "and the cache directories to store our results.\n",
    "\n"
   ]
  },
  {
   "cell_type": "code",
   "execution_count": 6,
   "metadata": {
    "collapsed": false
   },
   "outputs": [],
   "source": [
    "from kymatio.datasets import fetch_qm7\n",
    "from kymatio.caching import get_cache_dir"
   ]
  },
  {
   "cell_type": "markdown",
   "metadata": {},
   "source": [
    "## Data preparation\n",
    "\n",
    "Fetch the QM7 database and extract the atomic positions and nuclear charges\n",
    "of each molecule. This dataset contains 7165 organic molecules with up to\n",
    "seven non-hydrogen atoms, whose energies were computed using density\n",
    "functional theory.\n",
    "\n"
   ]
  },
  {
   "cell_type": "code",
   "execution_count": 8,
   "metadata": {},
   "outputs": [
    {
     "name": "stdout",
     "output_type": "stream",
     "text": [
      "/home/gris/N7/Semestre_10/App_cont_phys/Projet_Molecules/Molecular_energy_prediction\n"
     ]
    }
   ],
   "source": [
    "print(os.path.abspath(\"..\"))"
   ]
  },
  {
   "cell_type": "code",
   "execution_count": 9,
   "metadata": {
    "collapsed": false
   },
   "outputs": [],
   "source": [
    "import sys\n",
    "sys.path.append(os.path.abspath(\"..\"))\n",
    "from utils_project import generate_csv,create_dataframe_from_xyz_files,create_X_y_from_dataframe\n",
    "\n",
    "\n",
    "# csv_path = \"../../data/energies/train.csv\"\n",
    "# path_data = \"../../data/atoms/train\"\n",
    "# df_train=create_dataframe_from_xyz_files(path_data,csv_path)\n",
    "# X,y=create_X_y_from_dataframe(df_train,['num_atoms'])\n",
    "\n",
    "\n",
    "qm7 = fetch_qm7(align=True)\n",
    "pos = qm7['positions']\n",
    "full_charges = qm7['charges']\n",
    "\n",
    "n_molecules = pos.shape[0]"
   ]
  },
  {
   "cell_type": "code",
   "execution_count": 18,
   "metadata": {},
   "outputs": [
    {
     "name": "stdout",
     "output_type": "stream",
     "text": [
      "dict_keys(['positions', 'energies', 'charges'])\n"
     ]
    }
   ],
   "source": [
    "print(qm7.keys())"
   ]
  },
  {
   "cell_type": "markdown",
   "metadata": {},
   "source": [
    "From the nuclear charges, we compute the number of valence electrons, which\n",
    "we store as the valence charge of that atom.\n",
    "\n"
   ]
  },
  {
   "cell_type": "code",
   "execution_count": 10,
   "metadata": {
    "collapsed": false
   },
   "outputs": [],
   "source": [
    "mask = full_charges <= 2\n",
    "valence_charges = full_charges * mask\n",
    "\n",
    "mask = np.logical_and(full_charges > 2, full_charges <= 10)\n",
    "valence_charges += (full_charges - 2) * mask\n",
    "\n",
    "mask = np.logical_and(full_charges > 10, full_charges <= 18)\n",
    "valence_charges += (full_charges - 10) * mask"
   ]
  },
  {
   "cell_type": "markdown",
   "metadata": {},
   "source": [
    "We then normalize the positions of the atoms. Specifically, the positions\n",
    "are rescaled such that two Gaussians of width `sigma` placed at those\n",
    "positions overlap with amplitude less than `overlapping_precision`.\n",
    "\n"
   ]
  },
  {
   "cell_type": "code",
   "execution_count": 11,
   "metadata": {
    "collapsed": false
   },
   "outputs": [],
   "source": [
    "overlapping_precision = 1e-1\n",
    "sigma = 2.0\n",
    "min_dist = np.inf\n",
    "\n",
    "for i in range(n_molecules):\n",
    "    n_atoms = np.sum(full_charges[i] != 0)\n",
    "    pos_i = pos[i, :n_atoms, :]\n",
    "    min_dist = min(min_dist, pdist(pos_i).min())\n",
    "\n",
    "delta = sigma * np.sqrt(-8 * np.log(overlapping_precision))\n",
    "pos = pos * delta / min_dist"
   ]
  },
  {
   "cell_type": "markdown",
   "metadata": {},
   "source": [
    "## Scattering Transform\n",
    "Given the rescaled positions and charges, we are now ready to compute the\n",
    "density maps by placing Gaussians at the different positions weighted by the\n",
    "appropriate charge. These are fed into the 3D solid harmonic scattering\n",
    "transform to obtain features that are used to regress the energies. In\n",
    "order to do this, we must first define a grid.\n",
    "\n"
   ]
  },
  {
   "cell_type": "code",
   "execution_count": 12,
   "metadata": {
    "collapsed": false
   },
   "outputs": [],
   "source": [
    "M, N, O = 192, 128, 96\n",
    "\n",
    "grid = np.mgrid[-M//2:-M//2+M, -N//2:-N//2+N, -O//2:-O//2+O]\n",
    "grid = np.fft.ifftshift(grid)"
   ]
  },
  {
   "cell_type": "markdown",
   "metadata": {},
   "source": [
    "We then define the scattering transform using the `HarmonicScattering3D`\n",
    "class.\n",
    "\n"
   ]
  },
  {
   "cell_type": "code",
   "execution_count": 13,
   "metadata": {
    "collapsed": false
   },
   "outputs": [],
   "source": [
    "J = 2\n",
    "L = 3\n",
    "integral_powers = [0.5, 1.0, 2.0, 3.0]\n",
    "\n",
    "scattering = HarmonicScattering3D(J=J, shape=(M, N, O),\n",
    "                                  L=L, sigma_0=sigma,\n",
    "                                  integral_powers=integral_powers)"
   ]
  },
  {
   "cell_type": "markdown",
   "metadata": {},
   "source": [
    "We then check whether a GPU is available, in which case we transfer our\n",
    "scattering object there.\n",
    "\n"
   ]
  },
  {
   "cell_type": "code",
   "execution_count": 14,
   "metadata": {
    "collapsed": false
   },
   "outputs": [
    {
     "name": "stdout",
     "output_type": "stream",
     "text": [
      "cuda\n"
     ]
    }
   ],
   "source": [
    "use_cuda = torch.cuda.is_available()\n",
    "device = torch.device(\"cuda\" if use_cuda else \"cpu\")\n",
    "scattering.to(device)\n",
    "print(device)"
   ]
  },
  {
   "cell_type": "markdown",
   "metadata": {},
   "source": [
    "The maps computed for each molecule are quite large, so the computation has\n",
    "to be done by batches. Here we select a small batch size to ensure that we\n",
    "have enough memory when running on the GPU. Dividing the number of molecules\n",
    "by the batch size then gives us the number of batches.\n",
    "\n"
   ]
  },
  {
   "cell_type": "code",
   "execution_count": 15,
   "metadata": {
    "collapsed": false
   },
   "outputs": [],
   "source": [
    "batch_size = 8\n",
    "n_batches = int(np.ceil(n_molecules / batch_size))"
   ]
  },
  {
   "cell_type": "markdown",
   "metadata": {},
   "source": [
    "We are now ready to compute the scattering transforms. In the following\n",
    "loop, each batch of molecules is transformed into three maps using Gaussians\n",
    "centered at the atomic positions, one for the nuclear charges, one for the\n",
    "valence charges, and one with their difference (called the “core” charges).\n",
    "For each map, we compute its scattering transform up to order two and store\n",
    "the results.\n",
    "\n"
   ]
  },
  {
   "cell_type": "code",
   "execution_count": 16,
   "metadata": {
    "collapsed": false
   },
   "outputs": [
    {
     "name": "stdout",
     "output_type": "stream",
     "text": [
      "Computing solid harmonic scattering coefficients of 7165 molecules from the QM7 database on GPU\n",
      "sigma: 2.0, L: 3, J: 2, integral powers: [0.5, 1.0, 2.0, 3.0]\n",
      "Iteration 1 ETA: -\n",
      "Iteration 2 ETA: [04:22:58]\n",
      "Iteration 3 ETA: [04:03:05]\n",
      "Iteration 4 ETA: [04:15:03]\n",
      "Iteration 5 ETA: [04:34:01]\n"
     ]
    },
    {
     "ename": "KeyboardInterrupt",
     "evalue": "",
     "output_type": "error",
     "traceback": [
      "\u001b[0;31m---------------------------------------------------------------------------\u001b[0m",
      "\u001b[0;31mKeyboardInterrupt\u001b[0m                         Traceback (most recent call last)",
      "Cell \u001b[0;32mIn[16], line 53\u001b[0m\n\u001b[1;32m     50\u001b[0m \u001b[38;5;66;03m# Compute scattering coefficients for the valence charges.\u001b[39;00m\n\u001b[1;32m     51\u001b[0m val_order_0 \u001b[38;5;241m=\u001b[39m TorchBackend3D\u001b[38;5;241m.\u001b[39mcompute_integrals(val_density_batch,\n\u001b[1;32m     52\u001b[0m                                 integral_powers)\n\u001b[0;32m---> 53\u001b[0m val_scattering \u001b[38;5;241m=\u001b[39m \u001b[43mscattering\u001b[49m\u001b[43m(\u001b[49m\u001b[43mval_density_batch\u001b[49m\u001b[43m)\u001b[49m\n\u001b[1;32m     55\u001b[0m \u001b[38;5;66;03m# Take the difference between nuclear and valence charges, then\u001b[39;00m\n\u001b[1;32m     56\u001b[0m \u001b[38;5;66;03m# compute the corresponding scattering coefficients.\u001b[39;00m\n\u001b[1;32m     57\u001b[0m core_density_batch \u001b[38;5;241m=\u001b[39m full_density_batch \u001b[38;5;241m-\u001b[39m val_density_batch\n",
      "File \u001b[0;32m~/miniforge3/lib/python3.10/site-packages/torch/nn/modules/module.py:1751\u001b[0m, in \u001b[0;36mModule._wrapped_call_impl\u001b[0;34m(self, *args, **kwargs)\u001b[0m\n\u001b[1;32m   1749\u001b[0m     \u001b[38;5;28;01mreturn\u001b[39;00m \u001b[38;5;28mself\u001b[39m\u001b[38;5;241m.\u001b[39m_compiled_call_impl(\u001b[38;5;241m*\u001b[39margs, \u001b[38;5;241m*\u001b[39m\u001b[38;5;241m*\u001b[39mkwargs)  \u001b[38;5;66;03m# type: ignore[misc]\u001b[39;00m\n\u001b[1;32m   1750\u001b[0m \u001b[38;5;28;01melse\u001b[39;00m:\n\u001b[0;32m-> 1751\u001b[0m     \u001b[38;5;28;01mreturn\u001b[39;00m \u001b[38;5;28;43mself\u001b[39;49m\u001b[38;5;241;43m.\u001b[39;49m\u001b[43m_call_impl\u001b[49m\u001b[43m(\u001b[49m\u001b[38;5;241;43m*\u001b[39;49m\u001b[43margs\u001b[49m\u001b[43m,\u001b[49m\u001b[43m \u001b[49m\u001b[38;5;241;43m*\u001b[39;49m\u001b[38;5;241;43m*\u001b[39;49m\u001b[43mkwargs\u001b[49m\u001b[43m)\u001b[49m\n",
      "File \u001b[0;32m~/miniforge3/lib/python3.10/site-packages/torch/nn/modules/module.py:1762\u001b[0m, in \u001b[0;36mModule._call_impl\u001b[0;34m(self, *args, **kwargs)\u001b[0m\n\u001b[1;32m   1757\u001b[0m \u001b[38;5;66;03m# If we don't have any hooks, we want to skip the rest of the logic in\u001b[39;00m\n\u001b[1;32m   1758\u001b[0m \u001b[38;5;66;03m# this function, and just call forward.\u001b[39;00m\n\u001b[1;32m   1759\u001b[0m \u001b[38;5;28;01mif\u001b[39;00m \u001b[38;5;129;01mnot\u001b[39;00m (\u001b[38;5;28mself\u001b[39m\u001b[38;5;241m.\u001b[39m_backward_hooks \u001b[38;5;129;01mor\u001b[39;00m \u001b[38;5;28mself\u001b[39m\u001b[38;5;241m.\u001b[39m_backward_pre_hooks \u001b[38;5;129;01mor\u001b[39;00m \u001b[38;5;28mself\u001b[39m\u001b[38;5;241m.\u001b[39m_forward_hooks \u001b[38;5;129;01mor\u001b[39;00m \u001b[38;5;28mself\u001b[39m\u001b[38;5;241m.\u001b[39m_forward_pre_hooks\n\u001b[1;32m   1760\u001b[0m         \u001b[38;5;129;01mor\u001b[39;00m _global_backward_pre_hooks \u001b[38;5;129;01mor\u001b[39;00m _global_backward_hooks\n\u001b[1;32m   1761\u001b[0m         \u001b[38;5;129;01mor\u001b[39;00m _global_forward_hooks \u001b[38;5;129;01mor\u001b[39;00m _global_forward_pre_hooks):\n\u001b[0;32m-> 1762\u001b[0m     \u001b[38;5;28;01mreturn\u001b[39;00m \u001b[43mforward_call\u001b[49m\u001b[43m(\u001b[49m\u001b[38;5;241;43m*\u001b[39;49m\u001b[43margs\u001b[49m\u001b[43m,\u001b[49m\u001b[43m \u001b[49m\u001b[38;5;241;43m*\u001b[39;49m\u001b[38;5;241;43m*\u001b[39;49m\u001b[43mkwargs\u001b[49m\u001b[43m)\u001b[49m\n\u001b[1;32m   1764\u001b[0m result \u001b[38;5;241m=\u001b[39m \u001b[38;5;28;01mNone\u001b[39;00m\n\u001b[1;32m   1765\u001b[0m called_always_called_hooks \u001b[38;5;241m=\u001b[39m \u001b[38;5;28mset\u001b[39m()\n",
      "File \u001b[0;32m~/miniforge3/lib/python3.10/site-packages/kymatio/frontend/torch_frontend.py:22\u001b[0m, in \u001b[0;36mScatteringTorch.forward\u001b[0;34m(self, x)\u001b[0m\n\u001b[1;32m     18\u001b[0m \u001b[38;5;250m\u001b[39m\u001b[38;5;124;03m\"\"\"This method is an alias for `scattering`.\"\"\"\u001b[39;00m\n\u001b[1;32m     20\u001b[0m \u001b[38;5;28mself\u001b[39m\u001b[38;5;241m.\u001b[39mbackend\u001b[38;5;241m.\u001b[39minput_checks(x)\n\u001b[0;32m---> 22\u001b[0m \u001b[38;5;28;01mreturn\u001b[39;00m \u001b[38;5;28;43mself\u001b[39;49m\u001b[38;5;241;43m.\u001b[39;49m\u001b[43mscattering\u001b[49m\u001b[43m(\u001b[49m\u001b[43mx\u001b[49m\u001b[43m)\u001b[49m\n",
      "File \u001b[0;32m~/miniforge3/lib/python3.10/site-packages/kymatio/scattering3d/frontend/torch_frontend.py:73\u001b[0m, in \u001b[0;36mHarmonicScatteringTorch3D.scattering\u001b[0;34m(self, input_array)\u001b[0m\n\u001b[1;32m     70\u001b[0m \u001b[38;5;28;01mif\u001b[39;00m \u001b[38;5;28mself\u001b[39m\u001b[38;5;241m.\u001b[39mmethod \u001b[38;5;241m==\u001b[39m \u001b[38;5;124m'\u001b[39m\u001b[38;5;124mintegral\u001b[39m\u001b[38;5;124m'\u001b[39m: \\\n\u001b[1;32m     71\u001b[0m         \u001b[38;5;28mself\u001b[39m\u001b[38;5;241m.\u001b[39maveraging \u001b[38;5;241m=\u001b[39m \u001b[38;5;28;01mlambda\u001b[39;00m x: \u001b[38;5;28mself\u001b[39m\u001b[38;5;241m.\u001b[39mbackend\u001b[38;5;241m.\u001b[39mcompute_integrals(x, \u001b[38;5;28mself\u001b[39m\u001b[38;5;241m.\u001b[39mintegral_powers)\n\u001b[0;32m---> 73\u001b[0m S \u001b[38;5;241m=\u001b[39m \u001b[43mscattering3d\u001b[49m\u001b[43m(\u001b[49m\u001b[43minput_array\u001b[49m\u001b[43m,\u001b[49m\u001b[43m \u001b[49m\u001b[43mfilters\u001b[49m\u001b[38;5;241;43m=\u001b[39;49m\u001b[38;5;28;43mself\u001b[39;49m\u001b[38;5;241;43m.\u001b[39;49m\u001b[43mfilters\u001b[49m\u001b[43m,\u001b[49m\u001b[43m \u001b[49m\u001b[43mrotation_covariant\u001b[49m\u001b[38;5;241;43m=\u001b[39;49m\u001b[38;5;28;43mself\u001b[39;49m\u001b[38;5;241;43m.\u001b[39;49m\u001b[43mrotation_covariant\u001b[49m\u001b[43m,\u001b[49m\u001b[43m \u001b[49m\u001b[43mL\u001b[49m\u001b[38;5;241;43m=\u001b[39;49m\u001b[38;5;28;43mself\u001b[39;49m\u001b[38;5;241;43m.\u001b[39;49m\u001b[43mL\u001b[49m\u001b[43m,\u001b[49m\n\u001b[1;32m     74\u001b[0m \u001b[43m                    \u001b[49m\u001b[43mJ\u001b[49m\u001b[38;5;241;43m=\u001b[39;49m\u001b[38;5;28;43mself\u001b[39;49m\u001b[38;5;241;43m.\u001b[39;49m\u001b[43mJ\u001b[49m\u001b[43m,\u001b[49m\u001b[43m \u001b[49m\u001b[43mmax_order\u001b[49m\u001b[38;5;241;43m=\u001b[39;49m\u001b[38;5;28;43mself\u001b[39;49m\u001b[38;5;241;43m.\u001b[39;49m\u001b[43mmax_order\u001b[49m\u001b[43m,\u001b[49m\u001b[43m \u001b[49m\u001b[43mbackend\u001b[49m\u001b[38;5;241;43m=\u001b[39;49m\u001b[38;5;28;43mself\u001b[39;49m\u001b[38;5;241;43m.\u001b[39;49m\u001b[43mbackend\u001b[49m\u001b[43m,\u001b[49m\u001b[43m \u001b[49m\u001b[43maveraging\u001b[49m\u001b[38;5;241;43m=\u001b[39;49m\u001b[38;5;28;43mself\u001b[39;49m\u001b[38;5;241;43m.\u001b[39;49m\u001b[43maveraging\u001b[49m\u001b[43m)\u001b[49m\n\u001b[1;32m     75\u001b[0m scattering_shape \u001b[38;5;241m=\u001b[39m S\u001b[38;5;241m.\u001b[39mshape[\u001b[38;5;241m1\u001b[39m:]\n\u001b[1;32m     77\u001b[0m S \u001b[38;5;241m=\u001b[39m S\u001b[38;5;241m.\u001b[39mreshape(batch_shape \u001b[38;5;241m+\u001b[39m scattering_shape)\n",
      "File \u001b[0;32m~/miniforge3/lib/python3.10/site-packages/kymatio/scattering3d/core/scattering3d.py:50\u001b[0m, in \u001b[0;36mscattering3d\u001b[0;34m(x, filters, rotation_covariant, L, J, max_order, backend, averaging)\u001b[0m\n\u001b[1;32m     48\u001b[0m \u001b[38;5;28;01mif\u001b[39;00m rotation_covariant:\n\u001b[1;32m     49\u001b[0m     \u001b[38;5;28;01mfor\u001b[39;00m m \u001b[38;5;129;01min\u001b[39;00m \u001b[38;5;28mrange\u001b[39m(\u001b[38;5;28mlen\u001b[39m(filters[l][j_2])):\n\u001b[0;32m---> 50\u001b[0m         U_2_c \u001b[38;5;241m=\u001b[39m \u001b[43mcdgmm3d\u001b[49m\u001b[43m(\u001b[49m\u001b[43mU_1_c\u001b[49m\u001b[43m,\u001b[49m\u001b[43m \u001b[49m\u001b[43mfilters\u001b[49m\u001b[43m[\u001b[49m\u001b[43ml\u001b[49m\u001b[43m]\u001b[49m\u001b[43m[\u001b[49m\u001b[43mj_2\u001b[49m\u001b[43m]\u001b[49m\u001b[43m[\u001b[49m\u001b[43mm\u001b[49m\u001b[43m]\u001b[49m\u001b[43m)\u001b[49m\n\u001b[1;32m     51\u001b[0m         U_2_c \u001b[38;5;241m=\u001b[39m ifft(U_2_c)\n\u001b[1;32m     52\u001b[0m         U_2_m \u001b[38;5;241m=\u001b[39m modulus_rotation(U_2_c, U_2_m)\n",
      "File \u001b[0;32m~/miniforge3/lib/python3.10/site-packages/kymatio/scattering3d/backend/torch_backend.py:99\u001b[0m, in \u001b[0;36mTorchBackend3D.cdgmm3d\u001b[0;34m(cls, A, B)\u001b[0m\n\u001b[1;32m     97\u001b[0m \u001b[38;5;129m@classmethod\u001b[39m\n\u001b[1;32m     98\u001b[0m \u001b[38;5;28;01mdef\u001b[39;00m \u001b[38;5;21mcdgmm3d\u001b[39m(\u001b[38;5;28mcls\u001b[39m, A, B):\n\u001b[0;32m---> 99\u001b[0m     \u001b[38;5;28;01mreturn\u001b[39;00m \u001b[38;5;28;43mcls\u001b[39;49m\u001b[38;5;241;43m.\u001b[39;49m\u001b[43mcdgmm\u001b[49m\u001b[43m(\u001b[49m\u001b[43mA\u001b[49m\u001b[43m,\u001b[49m\u001b[43m \u001b[49m\u001b[43mB\u001b[49m\u001b[43m)\u001b[49m\n",
      "\u001b[0;31mKeyboardInterrupt\u001b[0m: "
     ]
    }
   ],
   "source": [
    "order_0, orders_1_and_2 = [], []\n",
    "print('Computing solid harmonic scattering coefficients of '\n",
    "      '{} molecules from the QM7 database on {}'.format(\n",
    "        n_molecules,   \"GPU\" if use_cuda else \"CPU\"))\n",
    "print('sigma: {}, L: {}, J: {}, integral powers: {}'.format(\n",
    "        sigma, L, J, integral_powers))\n",
    "\n",
    "this_time = None\n",
    "last_time = None\n",
    "for i in range(n_batches):\n",
    "    this_time = time.time()\n",
    "    if last_time is not None:\n",
    "        dt = this_time - last_time\n",
    "        print(\"Iteration {} ETA: [{:02}:{:02}:{:02}]\".format(\n",
    "                    i + 1, int(((n_batches - i - 1) * dt) // 3600),\n",
    "                    int((((n_batches - i - 1) * dt) // 60) % 60),\n",
    "                    int(((n_batches - i - 1) * dt) % 60)))\n",
    "    else:\n",
    "        print(\"Iteration {} ETA: {}\".format(i + 1, '-'))\n",
    "    last_time = this_time\n",
    "    time.sleep(1)\n",
    "\n",
    "    # Extract the current batch.\n",
    "    start = i * batch_size\n",
    "    end = min(start + batch_size, n_molecules)\n",
    "\n",
    "    pos_batch = pos[start:end]\n",
    "    full_batch = full_charges[start:end]\n",
    "    val_batch = valence_charges[start:end]\n",
    "\n",
    "    # Calculate the density map for the nuclear charges and transfer\n",
    "    # to PyTorch.\n",
    "    full_density_batch = generate_weighted_sum_of_gaussians(grid,\n",
    "            pos_batch, full_batch, sigma)\n",
    "    full_density_batch = torch.from_numpy(full_density_batch)\n",
    "    full_density_batch = full_density_batch.to(device).float()\n",
    "\n",
    "    # Compute zeroth-order, first-order, and second-order scattering\n",
    "    # coefficients of the nuclear charges.\n",
    "    full_order_0 = TorchBackend3D.compute_integrals(full_density_batch,\n",
    "                                     integral_powers)\n",
    "    full_scattering = scattering(full_density_batch)\n",
    "\n",
    "    # Compute the map for valence charges.\n",
    "    val_density_batch = generate_weighted_sum_of_gaussians(grid,\n",
    "            pos_batch, val_batch, sigma)\n",
    "    val_density_batch = torch.from_numpy(val_density_batch)\n",
    "    val_density_batch = val_density_batch.to(device).float()\n",
    "\n",
    "    # Compute scattering coefficients for the valence charges.\n",
    "    val_order_0 = TorchBackend3D.compute_integrals(val_density_batch,\n",
    "                                    integral_powers)\n",
    "    val_scattering = scattering(val_density_batch)\n",
    "\n",
    "    # Take the difference between nuclear and valence charges, then\n",
    "    # compute the corresponding scattering coefficients.\n",
    "    core_density_batch = full_density_batch - val_density_batch\n",
    "\n",
    "    core_order_0 = TorchBackend3D.compute_integrals(core_density_batch,\n",
    "                                     integral_powers)\n",
    "    core_scattering = scattering(core_density_batch)\n",
    "\n",
    "    # Stack the nuclear, valence, and core coefficients into arrays\n",
    "    # and append them to the output.\n",
    "    batch_order_0 = torch.stack(\n",
    "        (full_order_0, val_order_0, core_order_0), dim=-1)\n",
    "    batch_orders_1_and_2 = torch.stack(\n",
    "        (full_scattering, val_scattering, core_scattering), dim=-1)\n",
    "\n",
    "    order_0.append(batch_order_0)\n",
    "    orders_1_and_2.append(batch_orders_1_and_2)"
   ]
  },
  {
   "cell_type": "code",
   "execution_count": null,
   "metadata": {},
   "outputs": [
    {
     "name": "stdout",
     "output_type": "stream",
     "text": [
      "Computing solid harmonic scattering coefficients of 7165 molecules from the QM7 database on GPU\n",
      "sigma: 2.0, L: 3, J: 2, integral powers: [0.5, 1.0, 2.0, 3.0]\n",
      "Iteration 1 ETA: -\n",
      "Iteration 2 ETA: [03:44:51]\n"
     ]
    }
   ],
   "source": [
    "order_0, orders_1_and_2 = [], []\n",
    "print('Computing solid harmonic scattering coefficients of '\n",
    "      '{} molecules from the QM7 database on {}'.format(\n",
    "        n_molecules, \"GPU\" if use_cuda else \"CPU\"))\n",
    "print('sigma: {}, L: {}, J: {}, integral powers: {}'.format(\n",
    "        sigma, L, J, integral_powers))\n",
    "\n",
    "this_time = None\n",
    "last_time = None\n",
    "\n",
    "for i in range(n_batches):\n",
    "    this_time = time.time()\n",
    "    if last_time is not None:\n",
    "        dt = this_time - last_time\n",
    "        print(\"Iteration {} ETA: [{:02}:{:02}:{:02}]\".format(\n",
    "            i + 1, int(((n_batches - i - 1) * dt) // 3600),\n",
    "            int((((n_batches - i - 1) * dt) // 60) % 60),\n",
    "            int(((n_batches - i - 1) * dt) % 60)))\n",
    "    else:\n",
    "        print(\"Iteration {} ETA: {}\".format(i + 1, '-'))\n",
    "    last_time = this_time\n",
    "    time.sleep(1)\n",
    "\n",
    "    # Extract the current batch.\n",
    "    start = i * batch_size\n",
    "    end = min(start + batch_size, n_molecules)\n",
    "\n",
    "    pos_batch = pos[start:end]\n",
    "    full_batch = full_charges[start:end]\n",
    "    val_batch = valence_charges[start:end]\n",
    "\n",
    "    # === Nuclear density ===\n",
    "    full_density_batch = generate_weighted_sum_of_gaussians(grid,\n",
    "                                pos_batch, full_batch, sigma)\n",
    "    full_density_batch = torch.from_numpy(full_density_batch).float().to(device)\n",
    "\n",
    "    full_order_0 = TorchBackend3D.compute_integrals(full_density_batch, integral_powers)\n",
    "    full_scattering = scattering(full_density_batch)\n",
    "\n",
    "    # === Valence density ===\n",
    "    val_density_batch = generate_weighted_sum_of_gaussians(grid,\n",
    "                                pos_batch, val_batch, sigma)\n",
    "    val_density_batch = torch.from_numpy(val_density_batch).float().to(device)\n",
    "\n",
    "    val_order_0 = TorchBackend3D.compute_integrals(val_density_batch, integral_powers)\n",
    "    val_scattering = scattering(val_density_batch)\n",
    "\n",
    "    # === Core density ===\n",
    "    core_density_batch = full_density_batch - val_density_batch\n",
    "    core_order_0 = TorchBackend3D.compute_integrals(core_density_batch, integral_powers)\n",
    "    core_scattering = scattering(core_density_batch)\n",
    "\n",
    "    # === Stack all coefficients ===\n",
    "    batch_order_0 = torch.stack((full_order_0, val_order_0, core_order_0), dim=-1).to(device)\n",
    "    batch_orders_1_and_2 = torch.stack((full_scattering, val_scattering, core_scattering), dim=-1).to(device)\n",
    "\n",
    "    order_0.append(batch_order_0)\n",
    "    orders_1_and_2.append(batch_orders_1_and_2)\n"
   ]
  },
  {
   "cell_type": "markdown",
   "metadata": {},
   "source": [
    "Concatenate the batch outputs and transfer to NumPy.\n",
    "\n"
   ]
  },
  {
   "cell_type": "code",
   "execution_count": 16,
   "metadata": {
    "collapsed": false
   },
   "outputs": [],
   "source": [
    "order_0 = torch.cat(order_0, dim=0)\n",
    "orders_1_and_2 = torch.cat(orders_1_and_2, dim=0)\n",
    "\n",
    "order_0 = order_0.cpu().numpy()\n",
    "orders_1_and_2 = orders_1_and_2.cpu().numpy()"
   ]
  },
  {
   "cell_type": "markdown",
   "metadata": {},
   "source": [
    "## Regression\n",
    "\n",
    "To use the scattering coefficients as features in a scikit-learn pipeline,\n",
    "these must be of shape `(n_samples, n_features)`, so we reshape our arrays\n",
    "accordingly.\n",
    "\n"
   ]
  },
  {
   "cell_type": "code",
   "execution_count": null,
   "metadata": {
    "collapsed": false
   },
   "outputs": [],
   "source": [
    "order_0 = order_0.reshape((n_molecules, -1))\n",
    "orders_1_and_2 = orders_1_and_2.reshape((n_molecules, -1))"
   ]
  },
  {
   "cell_type": "markdown",
   "metadata": {},
   "source": [
    "Since the above calculation is quite lengthy, we save the results to a cache\n",
    "for future use.\n",
    "\n"
   ]
  },
  {
   "cell_type": "code",
   "execution_count": null,
   "metadata": {
    "collapsed": false
   },
   "outputs": [],
   "source": [
    "basename = 'qm7_L_{}_J_{}_sigma_{}_MNO_{}_powers_{}.npy'.format(\n",
    "        L, J, sigma, (M, N, O), integral_powers)\n",
    "\n",
    "cache_dir = get_cache_dir(\"qm7/experiments\")\n",
    "\n",
    "filename = os.path.join(cache_dir, 'order_0_' + basename)\n",
    "np.save(filename, order_0)\n",
    "\n",
    "filename = os.path.join(cache_dir, 'orders_1_and_2' + basename)\n",
    "np.save(filename, orders_1_and_2)"
   ]
  },
  {
   "cell_type": "markdown",
   "metadata": {},
   "source": [
    "We now concatenate the zeroth-order coefficients with the rest since we want\n",
    "to use all of them as features.\n",
    "\n"
   ]
  },
  {
   "cell_type": "code",
   "execution_count": null,
   "metadata": {
    "collapsed": false
   },
   "outputs": [],
   "source": [
    "scattering_coef = np.concatenate([order_0, orders_1_and_2], axis=1)"
   ]
  },
  {
   "cell_type": "markdown",
   "metadata": {},
   "source": [
    "Fetch the target energies from the QM7 dataset.\n",
    "\n"
   ]
  },
  {
   "cell_type": "code",
   "execution_count": null,
   "metadata": {
    "collapsed": false
   },
   "outputs": [],
   "source": [
    "qm7 = fetch_qm7()\n",
    "target = qm7['energies']"
   ]
  },
  {
   "cell_type": "markdown",
   "metadata": {},
   "source": [
    "We evaluate the performance of the regression using five-fold\n",
    "cross-validation. To do so, we first shuffle the molecules, then we store\n",
    "the resulting indices in `cross_val_folds`.\n",
    "\n"
   ]
  },
  {
   "cell_type": "code",
   "execution_count": null,
   "metadata": {
    "collapsed": false
   },
   "outputs": [],
   "source": [
    "n_folds = 5\n",
    "\n",
    "P = np.random.permutation(n_molecules).reshape((n_folds, -1))\n",
    "\n",
    "cross_val_folds = []\n",
    "\n",
    "for i_fold in range(n_folds):\n",
    "    fold = (np.concatenate(P[np.arange(n_folds) != i_fold], axis=0),\n",
    "            P[i_fold])\n",
    "    cross_val_folds.append(fold)"
   ]
  },
  {
   "cell_type": "markdown",
   "metadata": {},
   "source": [
    "Given these folds, we compute the regression error for various settings of\n",
    "the `alpha` parameter, which controls the amount of regularization applied\n",
    "to the regression problem (here in the form of a simple ridge regression, or\n",
    "Tikhonov, regularization). The mean absolute error (MAE) and root mean\n",
    "square error (RMSE) is output for each value of `alpha`.\n",
    "\n"
   ]
  },
  {
   "cell_type": "code",
   "execution_count": null,
   "metadata": {
    "collapsed": false
   },
   "outputs": [],
   "source": [
    "alphas = 10.0 ** (-np.arange(1, 10))\n",
    "for i, alpha in enumerate(alphas):\n",
    "    scaler = preprocessing.StandardScaler()\n",
    "    ridge = linear_model.Ridge(alpha=alpha)\n",
    "\n",
    "    regressor = pipeline.make_pipeline(scaler, ridge)\n",
    "\n",
    "    target_prediction = model_selection.cross_val_predict(regressor,\n",
    "            X=scattering_coef, y=target, cv=cross_val_folds)\n",
    "\n",
    "    MAE = np.mean(np.abs(target_prediction - target))\n",
    "    RMSE = np.sqrt(np.mean((target_prediction - target) ** 2))\n",
    "\n",
    "    print('Ridge regression, alpha: {}, MAE: {}, RMSE: {}'.format(\n",
    "        alpha, MAE, RMSE))"
   ]
  }
 ],
 "metadata": {
  "kernelspec": {
   "display_name": "base",
   "language": "python",
   "name": "python3"
  },
  "language_info": {
   "codemirror_mode": {
    "name": "ipython",
    "version": 3
   },
   "file_extension": ".py",
   "mimetype": "text/x-python",
   "name": "python",
   "nbconvert_exporter": "python",
   "pygments_lexer": "ipython3",
   "version": "3.10.17"
  }
 },
 "nbformat": 4,
 "nbformat_minor": 0
}
