{
 "cells": [
  {
   "cell_type": "code",
   "execution_count": 1,
   "metadata": {
    "collapsed": false
   },
   "outputs": [],
   "source": [
    "%matplotlib inline"
   ]
  },
  {
   "cell_type": "markdown",
   "metadata": {},
   "source": [
    "\n",
    "# 3D scattering quantum chemistry regression\n",
    "\n",
    "Description:\n",
    "This example trains a classifier combined with a scattering transform to\n",
    "regress molecular atomization energies on the QM7 dataset. Here, we use full\n",
    "charges, valence charges and core charges. A linear regression is deployed.\n",
    "\n",
    "Remarks:\n",
    "The linear regression of the QM7 energies with the given values gives MAE\n",
    "2.75, RMSE 4.18 (kcal.mol-1)\n",
    "\n",
    "Reference:\n",
    "https://arxiv.org/abs/1805.00571\n"
   ]
  },
  {
   "cell_type": "markdown",
   "metadata": {},
   "source": [
    "## Preliminaries\n",
    "\n",
    "First, we import NumPy, PyTorch, and some utility modules.\n",
    "\n"
   ]
  },
  {
   "cell_type": "code",
   "execution_count": 2,
   "metadata": {
    "collapsed": false
   },
   "outputs": [],
   "source": [
    "import numpy as np\n",
    "import torch\n",
    "import time\n",
    "import os"
   ]
  },
  {
   "cell_type": "markdown",
   "metadata": {},
   "source": [
    "We will use scikit-learn to construct a linear model, so we import the\n",
    "necessary modules. In addition, we need to compute distance matrices when\n",
    "normalizing our input features, so we import `pdist` from `scipy.spatial`.\n",
    "\n"
   ]
  },
  {
   "cell_type": "code",
   "execution_count": 3,
   "metadata": {
    "collapsed": false
   },
   "outputs": [],
   "source": [
    "from sklearn import (linear_model, model_selection, preprocessing,\n",
    "                     pipeline)\n",
    "from scipy.spatial.distance import pdist"
   ]
  },
  {
   "cell_type": "markdown",
   "metadata": {},
   "source": [
    "We then import the necessary functionality from Kymatio. First, we need the\n",
    "PyTorch frontend of the 3D solid harmonic cattering transform.\n",
    "\n"
   ]
  },
  {
   "cell_type": "code",
   "execution_count": 4,
   "metadata": {
    "collapsed": false
   },
   "outputs": [],
   "source": [
    "from kymatio.torch import HarmonicScattering3D"
   ]
  },
  {
   "cell_type": "markdown",
   "metadata": {},
   "source": [
    "The 3D transform doesn't compute the zeroth-order coefficients, so we need\n",
    "to import `compute_integrals` to do this manually.\n",
    "\n"
   ]
  },
  {
   "cell_type": "code",
   "execution_count": 5,
   "metadata": {
    "collapsed": false
   },
   "outputs": [],
   "source": [
    "from kymatio.scattering3d.backend.torch_backend \\\n",
    "    import TorchBackend3D"
   ]
  },
  {
   "cell_type": "markdown",
   "metadata": {},
   "source": [
    "To generate the input 3D maps, we need to calculate sums of Gaussians, so we\n",
    "import the function `generate_weighted_sum_of_gaussians`.\n",
    "\n"
   ]
  },
  {
   "cell_type": "code",
   "execution_count": 6,
   "metadata": {
    "collapsed": false
   },
   "outputs": [],
   "source": [
    "from kymatio.scattering3d.utils \\\n",
    "    import generate_weighted_sum_of_gaussians"
   ]
  },
  {
   "cell_type": "markdown",
   "metadata": {},
   "source": [
    "Finally, we import the utility functions that let us access the QM7 dataset\n",
    "and the cache directories to store our results.\n",
    "\n"
   ]
  },
  {
   "cell_type": "code",
   "execution_count": 7,
   "metadata": {
    "collapsed": false
   },
   "outputs": [],
   "source": [
    "from kymatio.datasets import fetch_qm7\n",
    "from kymatio.caching import get_cache_dir"
   ]
  },
  {
   "cell_type": "markdown",
   "metadata": {},
   "source": [
    "## Data preparation\n",
    "\n",
    "Fetch the QM7 database and extract the atomic positions and nuclear charges\n",
    "of each molecule. This dataset contains 7165 organic molecules with up to\n",
    "seven non-hydrogen atoms, whose energies were computed using density\n",
    "functional theory.\n",
    "\n"
   ]
  },
  {
   "cell_type": "code",
   "execution_count": 8,
   "metadata": {
    "collapsed": false
   },
   "outputs": [],
   "source": [
    "import sys\n",
    "sys.path.append(os.path.abspath(\"..\"))\n",
    "from utils_project import generate_csv,create_dataframe_from_xyz_files,create_X_y_from_dataframe\n",
    "\n",
    "\n",
    "csv_path = None\n",
    "path_data = \"../../data/atoms/test\"\n",
    "df_train=create_dataframe_from_xyz_files(path_data,csv_path)\n",
    "X=df_train[['positions', 'charges','id']]\n",
    "\n",
    "qm7 = X.to_dict(\"list\")\n",
    "\n",
    "#qm7 = fetch_qm7(align=True)\n",
    "pos = np.array(qm7['positions'])\n",
    "full_charges = np.array(qm7['charges'])\n",
    "\n",
    "n_molecules = pos.shape[0]"
   ]
  },
  {
   "cell_type": "markdown",
   "metadata": {},
   "source": [
    "From the nuclear charges, we compute the number of valence electrons, which\n",
    "we store as the valence charge of that atom.\n",
    "\n"
   ]
  },
  {
   "cell_type": "code",
   "execution_count": 9,
   "metadata": {
    "collapsed": false
   },
   "outputs": [],
   "source": [
    "mask = full_charges <= 2\n",
    "valence_charges = full_charges * mask\n",
    "\n",
    "mask = np.logical_and(full_charges > 2, full_charges <= 10)\n",
    "valence_charges += (full_charges - 2) * mask\n",
    "\n",
    "mask = np.logical_and(full_charges > 10, full_charges <= 18)\n",
    "valence_charges += (full_charges - 10) * mask"
   ]
  },
  {
   "cell_type": "markdown",
   "metadata": {},
   "source": [
    "We then normalize the positions of the atoms. Specifically, the positions\n",
    "are rescaled such that two Gaussians of width `sigma` placed at those\n",
    "positions overlap with amplitude less than `overlapping_precision`.\n",
    "\n"
   ]
  },
  {
   "cell_type": "code",
   "execution_count": 10,
   "metadata": {
    "collapsed": false
   },
   "outputs": [],
   "source": [
    "overlapping_precision = 1e-1\n",
    "sigma = 2.0\n",
    "min_dist = np.inf\n",
    "\n",
    "for i in range(n_molecules):\n",
    "    n_atoms = np.sum(full_charges[i] != 0)\n",
    "    pos_i = pos[i, :n_atoms, :]\n",
    "    min_dist = min(min_dist, pdist(pos_i).min())\n",
    "\n",
    "delta = sigma * np.sqrt(-8 * np.log(overlapping_precision))\n",
    "pos = pos * delta / min_dist"
   ]
  },
  {
   "cell_type": "markdown",
   "metadata": {},
   "source": [
    "## Scattering Transform\n",
    "Given the rescaled positions and charges, we are now ready to compute the\n",
    "density maps by placing Gaussians at the different positions weighted by the\n",
    "appropriate charge. These are fed into the 3D solid harmonic scattering\n",
    "transform to obtain features that are used to regress the energies. In\n",
    "order to do this, we must first define a grid.\n",
    "\n"
   ]
  },
  {
   "cell_type": "code",
   "execution_count": 11,
   "metadata": {
    "collapsed": false
   },
   "outputs": [],
   "source": [
    "M, N, O = 16, 16, 16 #192, 128, 96\n",
    "grille = \"16-16-16\"\n",
    "grid = np.mgrid[-M//2:-M//2+M, -N//2:-N//2+N, -O//2:-O//2+O]\n",
    "grid = np.fft.ifftshift(grid)"
   ]
  },
  {
   "cell_type": "markdown",
   "metadata": {},
   "source": [
    "We then define the scattering transform using the `HarmonicScattering3D`\n",
    "class.\n",
    "\n"
   ]
  },
  {
   "cell_type": "code",
   "execution_count": 12,
   "metadata": {
    "collapsed": false
   },
   "outputs": [],
   "source": [
    "J = 2\n",
    "L = 3\n",
    "integral_powers = [0.5, 1.0, 2.0, 3.0]\n",
    "\n",
    "scattering = HarmonicScattering3D(J=J, shape=(M, N, O),\n",
    "                                  L=L, sigma_0=sigma,\n",
    "                                  integral_powers=integral_powers)"
   ]
  },
  {
   "cell_type": "markdown",
   "metadata": {},
   "source": [
    "We then check whether a GPU is available, in which case we transfer our\n",
    "scattering object there.\n",
    "\n"
   ]
  },
  {
   "cell_type": "code",
   "execution_count": 13,
   "metadata": {
    "collapsed": false
   },
   "outputs": [
    {
     "name": "stdout",
     "output_type": "stream",
     "text": [
      "cuda\n"
     ]
    }
   ],
   "source": [
    "use_cuda = torch.cuda.is_available()\n",
    "device = torch.device(\"cuda\" if use_cuda else \"cpu\")\n",
    "scattering.to(device)\n",
    "print(device)"
   ]
  },
  {
   "cell_type": "markdown",
   "metadata": {},
   "source": [
    "The maps computed for each molecule are quite large, so the computation has\n",
    "to be done by batches. Here we select a small batch size to ensure that we\n",
    "have enough memory when running on the GPU. Dividing the number of molecules\n",
    "by the batch size then gives us the number of batches.\n",
    "\n"
   ]
  },
  {
   "cell_type": "code",
   "execution_count": 14,
   "metadata": {
    "collapsed": false
   },
   "outputs": [],
   "source": [
    "batch_size = 8\n",
    "n_batches = int(np.ceil(n_molecules / batch_size))"
   ]
  },
  {
   "cell_type": "markdown",
   "metadata": {},
   "source": [
    "We are now ready to compute the scattering transforms. In the following\n",
    "loop, each batch of molecules is transformed into three maps using Gaussians\n",
    "centered at the atomic positions, one for the nuclear charges, one for the\n",
    "valence charges, and one with their difference (called the “core” charges).\n",
    "For each map, we compute its scattering transform up to order two and store\n",
    "the results.\n",
    "\n"
   ]
  },
  {
   "cell_type": "code",
   "execution_count": 15,
   "metadata": {},
   "outputs": [
    {
     "name": "stdout",
     "output_type": "stream",
     "text": [
      "Computing solid harmonic scattering coefficients of 1647 molecules from the QM7 database on GPU\n",
      "sigma: 2.0, L: 3, J: 2, integral powers: [0.5, 1.0, 2.0, 3.0]\n",
      "Iteration 1 ETA: -\n",
      "Iteration 2 ETA: [00:05:06]\n",
      "Iteration 3 ETA: [00:04:26]\n",
      "Iteration 4 ETA: [00:03:56]\n",
      "Iteration 5 ETA: [00:03:49]\n",
      "Iteration 6 ETA: [00:03:46]\n",
      "Iteration 7 ETA: [00:03:44]\n",
      "Iteration 8 ETA: [00:03:43]\n",
      "Iteration 9 ETA: [00:03:45]\n",
      "Iteration 10 ETA: [00:03:43]\n",
      "Iteration 11 ETA: [00:03:42]\n",
      "Iteration 12 ETA: [00:03:22]\n",
      "Iteration 13 ETA: [00:03:21]\n",
      "Iteration 14 ETA: [00:03:19]\n",
      "Iteration 15 ETA: [00:03:20]\n",
      "Iteration 16 ETA: [00:03:17]\n",
      "Iteration 17 ETA: [00:03:17]\n",
      "Iteration 18 ETA: [00:03:16]\n",
      "Iteration 19 ETA: [00:03:14]\n",
      "Iteration 20 ETA: [00:03:14]\n",
      "Iteration 21 ETA: [00:03:12]\n",
      "Iteration 22 ETA: [00:03:11]\n",
      "Iteration 23 ETA: [00:03:12]\n",
      "Iteration 24 ETA: [00:03:09]\n",
      "Iteration 25 ETA: [00:03:08]\n",
      "Iteration 26 ETA: [00:03:07]\n",
      "Iteration 27 ETA: [00:03:07]\n",
      "Iteration 28 ETA: [00:03:05]\n",
      "Iteration 29 ETA: [00:03:04]\n",
      "Iteration 30 ETA: [00:03:03]\n",
      "Iteration 31 ETA: [00:03:02]\n",
      "Iteration 32 ETA: [00:03:01]\n",
      "Iteration 33 ETA: [00:02:59]\n",
      "Iteration 34 ETA: [00:02:59]\n",
      "Iteration 35 ETA: [00:02:58]\n",
      "Iteration 36 ETA: [00:02:56]\n",
      "Iteration 37 ETA: [00:02:56]\n",
      "Iteration 38 ETA: [00:02:55]\n",
      "Iteration 39 ETA: [00:02:54]\n",
      "Iteration 40 ETA: [00:02:52]\n",
      "Iteration 41 ETA: [00:02:52]\n",
      "Iteration 42 ETA: [00:02:50]\n",
      "Iteration 43 ETA: [00:02:49]\n",
      "Iteration 44 ETA: [00:02:48]\n",
      "Iteration 45 ETA: [00:02:47]\n",
      "Iteration 46 ETA: [00:02:46]\n",
      "Iteration 47 ETA: [00:02:45]\n",
      "Iteration 48 ETA: [00:02:44]\n",
      "Iteration 49 ETA: [00:02:43]\n",
      "Iteration 50 ETA: [00:02:42]\n",
      "Iteration 51 ETA: [00:02:41]\n",
      "Iteration 52 ETA: [00:02:40]\n",
      "Iteration 53 ETA: [00:02:39]\n",
      "Iteration 54 ETA: [00:02:38]\n",
      "Iteration 55 ETA: [00:02:37]\n",
      "Iteration 56 ETA: [00:02:36]\n",
      "Iteration 57 ETA: [00:02:34]\n",
      "Iteration 58 ETA: [00:02:34]\n",
      "Iteration 59 ETA: [00:02:32]\n",
      "Iteration 60 ETA: [00:02:31]\n",
      "Iteration 61 ETA: [00:02:30]\n",
      "Iteration 62 ETA: [00:02:30]\n",
      "Iteration 63 ETA: [00:02:29]\n",
      "Iteration 64 ETA: [00:02:27]\n",
      "Iteration 65 ETA: [00:02:26]\n",
      "Iteration 66 ETA: [00:02:25]\n",
      "Iteration 67 ETA: [00:02:24]\n",
      "Iteration 68 ETA: [00:02:23]\n",
      "Iteration 69 ETA: [00:02:22]\n",
      "Iteration 70 ETA: [00:02:21]\n",
      "Iteration 71 ETA: [00:02:20]\n",
      "Iteration 72 ETA: [00:02:20]\n",
      "Iteration 73 ETA: [00:02:18]\n",
      "Iteration 74 ETA: [00:02:17]\n",
      "Iteration 75 ETA: [00:02:16]\n",
      "Iteration 76 ETA: [00:02:15]\n",
      "Iteration 77 ETA: [00:02:14]\n",
      "Iteration 78 ETA: [00:02:14]\n",
      "Iteration 79 ETA: [00:02:12]\n",
      "Iteration 80 ETA: [00:02:11]\n",
      "Iteration 81 ETA: [00:02:10]\n",
      "Iteration 82 ETA: [00:02:09]\n",
      "Iteration 83 ETA: [00:02:08]\n",
      "Iteration 84 ETA: [00:02:06]\n",
      "Iteration 85 ETA: [00:02:05]\n",
      "Iteration 86 ETA: [00:02:05]\n",
      "Iteration 87 ETA: [00:02:04]\n",
      "Iteration 88 ETA: [00:02:03]\n",
      "Iteration 89 ETA: [00:02:02]\n",
      "Iteration 90 ETA: [00:02:00]\n",
      "Iteration 91 ETA: [00:02:00]\n",
      "Iteration 92 ETA: [00:01:59]\n",
      "Iteration 93 ETA: [00:01:58]\n",
      "Iteration 94 ETA: [00:01:56]\n",
      "Iteration 95 ETA: [00:01:55]\n",
      "Iteration 96 ETA: [00:01:54]\n",
      "Iteration 97 ETA: [00:01:53]\n",
      "Iteration 98 ETA: [00:01:52]\n",
      "Iteration 99 ETA: [00:01:51]\n",
      "Iteration 100 ETA: [00:01:50]\n",
      "Iteration 101 ETA: [00:01:49]\n",
      "Iteration 102 ETA: [00:01:48]\n",
      "Iteration 103 ETA: [00:01:47]\n",
      "Iteration 104 ETA: [00:01:46]\n",
      "Iteration 105 ETA: [00:01:45]\n",
      "Iteration 106 ETA: [00:01:44]\n",
      "Iteration 107 ETA: [00:01:43]\n",
      "Iteration 108 ETA: [00:01:42]\n",
      "Iteration 109 ETA: [00:01:40]\n",
      "Iteration 110 ETA: [00:01:39]\n",
      "Iteration 111 ETA: [00:01:38]\n",
      "Iteration 112 ETA: [00:01:37]\n",
      "Iteration 113 ETA: [00:01:36]\n",
      "Iteration 114 ETA: [00:01:35]\n",
      "Iteration 115 ETA: [00:01:34]\n",
      "Iteration 116 ETA: [00:01:33]\n",
      "Iteration 117 ETA: [00:01:32]\n",
      "Iteration 118 ETA: [00:01:31]\n",
      "Iteration 119 ETA: [00:01:30]\n",
      "Iteration 120 ETA: [00:01:29]\n",
      "Iteration 121 ETA: [00:01:28]\n",
      "Iteration 122 ETA: [00:01:27]\n",
      "Iteration 123 ETA: [00:01:26]\n",
      "Iteration 124 ETA: [00:01:25]\n",
      "Iteration 125 ETA: [00:01:24]\n",
      "Iteration 126 ETA: [00:01:23]\n",
      "Iteration 127 ETA: [00:01:22]\n",
      "Iteration 128 ETA: [00:01:21]\n",
      "Iteration 129 ETA: [00:01:20]\n",
      "Iteration 130 ETA: [00:01:19]\n",
      "Iteration 131 ETA: [00:01:18]\n",
      "Iteration 132 ETA: [00:01:16]\n",
      "Iteration 133 ETA: [00:01:16]\n",
      "Iteration 134 ETA: [00:01:15]\n",
      "Iteration 135 ETA: [00:01:14]\n",
      "Iteration 136 ETA: [00:01:12]\n",
      "Iteration 137 ETA: [00:01:11]\n",
      "Iteration 138 ETA: [00:01:10]\n",
      "Iteration 139 ETA: [00:01:09]\n",
      "Iteration 140 ETA: [00:01:08]\n",
      "Iteration 141 ETA: [00:01:07]\n",
      "Iteration 142 ETA: [00:01:06]\n",
      "Iteration 143 ETA: [00:01:05]\n",
      "Iteration 144 ETA: [00:01:04]\n",
      "Iteration 145 ETA: [00:01:03]\n",
      "Iteration 146 ETA: [00:01:02]\n",
      "Iteration 147 ETA: [00:01:01]\n",
      "Iteration 148 ETA: [00:01:00]\n",
      "Iteration 149 ETA: [00:00:59]\n",
      "Iteration 150 ETA: [00:00:58]\n",
      "Iteration 151 ETA: [00:00:57]\n",
      "Iteration 152 ETA: [00:00:56]\n",
      "Iteration 153 ETA: [00:00:55]\n",
      "Iteration 154 ETA: [00:00:54]\n",
      "Iteration 155 ETA: [00:00:53]\n",
      "Iteration 156 ETA: [00:00:51]\n",
      "Iteration 157 ETA: [00:00:51]\n",
      "Iteration 158 ETA: [00:00:50]\n",
      "Iteration 159 ETA: [00:00:48]\n",
      "Iteration 160 ETA: [00:00:47]\n",
      "Iteration 161 ETA: [00:00:46]\n",
      "Iteration 162 ETA: [00:00:45]\n",
      "Iteration 163 ETA: [00:00:44]\n",
      "Iteration 164 ETA: [00:00:43]\n",
      "Iteration 165 ETA: [00:00:42]\n",
      "Iteration 166 ETA: [00:00:41]\n",
      "Iteration 167 ETA: [00:00:40]\n",
      "Iteration 168 ETA: [00:00:39]\n",
      "Iteration 169 ETA: [00:00:38]\n",
      "Iteration 170 ETA: [00:00:37]\n",
      "Iteration 171 ETA: [00:00:36]\n",
      "Iteration 172 ETA: [00:00:35]\n",
      "Iteration 173 ETA: [00:00:34]\n",
      "Iteration 174 ETA: [00:00:33]\n",
      "Iteration 175 ETA: [00:00:32]\n",
      "Iteration 176 ETA: [00:00:31]\n",
      "Iteration 177 ETA: [00:00:30]\n",
      "Iteration 178 ETA: [00:00:29]\n",
      "Iteration 179 ETA: [00:00:28]\n",
      "Iteration 180 ETA: [00:00:27]\n",
      "Iteration 181 ETA: [00:00:26]\n",
      "Iteration 182 ETA: [00:00:24]\n",
      "Iteration 183 ETA: [00:00:23]\n",
      "Iteration 184 ETA: [00:00:22]\n",
      "Iteration 185 ETA: [00:00:21]\n",
      "Iteration 186 ETA: [00:00:20]\n",
      "Iteration 187 ETA: [00:00:19]\n",
      "Iteration 188 ETA: [00:00:18]\n",
      "Iteration 189 ETA: [00:00:17]\n",
      "Iteration 190 ETA: [00:00:16]\n",
      "Iteration 191 ETA: [00:00:15]\n",
      "Iteration 192 ETA: [00:00:14]\n",
      "Iteration 193 ETA: [00:00:13]\n",
      "Iteration 194 ETA: [00:00:12]\n",
      "Iteration 195 ETA: [00:00:11]\n",
      "Iteration 196 ETA: [00:00:10]\n",
      "Iteration 197 ETA: [00:00:09]\n",
      "Iteration 198 ETA: [00:00:08]\n",
      "Iteration 199 ETA: [00:00:07]\n",
      "Iteration 200 ETA: [00:00:06]\n",
      "Iteration 201 ETA: [00:00:05]\n",
      "Iteration 202 ETA: [00:00:04]\n",
      "Iteration 203 ETA: [00:00:03]\n",
      "Iteration 204 ETA: [00:00:02]\n",
      "Iteration 205 ETA: [00:00:01]\n",
      "Iteration 206 ETA: [00:00:00]\n"
     ]
    }
   ],
   "source": [
    "order_0, orders_1_and_2 = [], []\n",
    "print('Computing solid harmonic scattering coefficients of '\n",
    "      '{} molecules from the QM7 database on {}'.format(\n",
    "        n_molecules, \"GPU\" if use_cuda else \"CPU\"))\n",
    "print('sigma: {}, L: {}, J: {}, integral powers: {}'.format(\n",
    "        sigma, L, J, integral_powers))\n",
    "\n",
    "this_time = None\n",
    "last_time = None\n",
    "\n",
    "for i in range(n_batches):\n",
    "    this_time = time.time()\n",
    "    if last_time is not None:\n",
    "        dt = this_time - last_time\n",
    "        print(\"Iteration {} ETA: [{:02}:{:02}:{:02}]\".format(\n",
    "            i + 1, int(((n_batches - i - 1) * dt) // 3600),\n",
    "            int((((n_batches - i - 1) * dt) // 60) % 60),\n",
    "            int(((n_batches - i - 1) * dt) % 60)))\n",
    "    else:\n",
    "        print(\"Iteration {} ETA: {}\".format(i + 1, '-'))\n",
    "    last_time = this_time\n",
    "    time.sleep(1)\n",
    "\n",
    "    # Extract the current batch.\n",
    "    start = i * batch_size\n",
    "    end = min(start + batch_size, n_molecules)\n",
    "\n",
    "    pos_batch = pos[start:end]\n",
    "    full_batch = full_charges[start:end]\n",
    "    val_batch = valence_charges[start:end]\n",
    "\n",
    "    # === Nuclear density ===\n",
    "    full_density_batch = generate_weighted_sum_of_gaussians(grid,\n",
    "                                pos_batch, full_batch, sigma)\n",
    "    full_density_batch = torch.from_numpy(full_density_batch).float().to(device)\n",
    "\n",
    "    full_order_0 = TorchBackend3D.compute_integrals(full_density_batch, integral_powers)\n",
    "    full_scattering = scattering(full_density_batch)\n",
    "\n",
    "    # === Valence density ===\n",
    "    val_density_batch = generate_weighted_sum_of_gaussians(grid,\n",
    "                                pos_batch, val_batch, sigma)\n",
    "    val_density_batch = torch.from_numpy(val_density_batch).float().to(device)\n",
    "\n",
    "    val_order_0 = TorchBackend3D.compute_integrals(val_density_batch, integral_powers)\n",
    "    val_scattering = scattering(val_density_batch)\n",
    "\n",
    "    # === Core density ===\n",
    "    core_density_batch = full_density_batch - val_density_batch\n",
    "    core_order_0 = TorchBackend3D.compute_integrals(core_density_batch, integral_powers)\n",
    "    core_scattering = scattering(core_density_batch)\n",
    "\n",
    "    # === Stack all coefficients ===\n",
    "    batch_order_0 = torch.stack((full_order_0, val_order_0, core_order_0), dim=-1).to(device)\n",
    "    batch_orders_1_and_2 = torch.stack((full_scattering, val_scattering, core_scattering), dim=-1).to(device)\n",
    "\n",
    "    order_0.append(batch_order_0)\n",
    "    orders_1_and_2.append(batch_orders_1_and_2)\n"
   ]
  },
  {
   "cell_type": "code",
   "execution_count": 16,
   "metadata": {},
   "outputs": [],
   "source": [
    "# Fusionner les résultats en un seul tenseur\n",
    "order_0_tensor = torch.cat(order_0, dim=0)\n",
    "orders_1_and_2_tensor = torch.cat(orders_1_and_2, dim=0)\n",
    "\n",
    "# Sauvegarder les tenseurs sur disque\n",
    "torch.save({\n",
    "    'order_0': order_0_tensor,\n",
    "    'orders_1_and_2': orders_1_and_2_tensor\n",
    "}, f'../models_scattering/scattering_outputs_test_{grille}.pt')"
   ]
  },
  {
   "cell_type": "code",
   "execution_count": 17,
   "metadata": {},
   "outputs": [],
   "source": [
    "# # Charger les données\n",
    "# saved_data = torch.load( f'../models_scattering/scattering_outputs_{grille}.pt', map_location=device)\n",
    "# order_0 = saved_data['order_0']\n",
    "# orders_1_and_2 = saved_data['orders_1_and_2']"
   ]
  },
  {
   "cell_type": "markdown",
   "metadata": {},
   "source": [
    "Concatenate the batch outputs and transfer to NumPy.\n",
    "\n"
   ]
  },
  {
   "cell_type": "code",
   "execution_count": 18,
   "metadata": {
    "collapsed": false
   },
   "outputs": [],
   "source": [
    "order_0 = torch.cat(order_0, dim=0)\n",
    "orders_1_and_2 = torch.cat(orders_1_and_2, dim=0)\n",
    "\n",
    "order_0 = order_0.cpu().numpy()\n",
    "orders_1_and_2 = orders_1_and_2.cpu().numpy()"
   ]
  },
  {
   "cell_type": "markdown",
   "metadata": {},
   "source": [
    "## Regression\n",
    "\n",
    "To use the scattering coefficients as features in a scikit-learn pipeline,\n",
    "these must be of shape `(n_samples, n_features)`, so we reshape our arrays\n",
    "accordingly.\n",
    "\n"
   ]
  },
  {
   "cell_type": "code",
   "execution_count": 19,
   "metadata": {
    "collapsed": false
   },
   "outputs": [],
   "source": [
    "order_0 = order_0.reshape((n_molecules, -1))\n",
    "orders_1_and_2 = orders_1_and_2.reshape((n_molecules, -1))"
   ]
  },
  {
   "cell_type": "markdown",
   "metadata": {},
   "source": [
    "We now concatenate the zeroth-order coefficients with the rest since we want\n",
    "to use all of them as features.\n",
    "\n"
   ]
  },
  {
   "cell_type": "code",
   "execution_count": 20,
   "metadata": {
    "collapsed": false
   },
   "outputs": [],
   "source": [
    "scattering_coef = np.concatenate([order_0, orders_1_and_2], axis=1)"
   ]
  },
  {
   "cell_type": "code",
   "execution_count": null,
   "metadata": {},
   "outputs": [],
   "source": [
    "from sklearn import preprocessing, pipeline\n",
    "import joblib\n",
    "\n",
    "# Charger le modèle enregistré\n",
    "model = joblib.load(f'../models_scattering/best_model_{grille}.pkl')\n",
    "y_pred = model.predict(scattering_coef)\n",
    "\n",
    "generate_csv(X['id'],y_pred,f'best_{grille}')\n"
   ]
  }
 ],
 "metadata": {
  "kernelspec": {
   "display_name": "Python 3",
   "language": "python",
   "name": "python3"
  },
  "language_info": {
   "codemirror_mode": {
    "name": "ipython",
    "version": 3
   },
   "file_extension": ".py",
   "mimetype": "text/x-python",
   "name": "python",
   "nbconvert_exporter": "python",
   "pygments_lexer": "ipython3",
   "version": "3.10.12"
  }
 },
 "nbformat": 4,
 "nbformat_minor": 0
}
