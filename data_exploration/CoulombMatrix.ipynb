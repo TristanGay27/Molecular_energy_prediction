{
 "cells": [
  {
   "cell_type": "markdown",
   "id": "53d2f040",
   "metadata": {},
   "source": [
    "# Matrice de Coulomb"
   ]
  },
  {
   "cell_type": "code",
   "execution_count": 8,
   "id": "1054ac65",
   "metadata": {},
   "outputs": [
    {
     "name": "stdout",
     "output_type": "stream",
     "text": [
      "Le nombre d'atome max pour une molécule est de :  23\n"
     ]
    }
   ],
   "source": [
    "import sys\n",
    "import os\n",
    "sys.path.append(os.path.abspath(\"..\"))\n",
    "\n",
    "\n",
    "from utils_project import generate_csv,create_dataframe_from_xyz_files,create_X_y_from_dataframe\n",
    "import pandas as pd\n",
    "from ase.io import read\n",
    "from dscribe.descriptors import CoulombMatrix\n",
    "import numpy as np\n",
    "from pathlib import Path\n",
    "\n",
    "energy_data = pd.read_csv(\"../../data/energies/train.csv\")\n",
    "df = create_dataframe_from_xyz_files(\"../../data/atoms/train\", csv_path=None)\n",
    "\n",
    "# Optionnel \n",
    "xyz_dir = Path(\"../../data/atoms/train\")\n",
    "xyz_files = sorted(xyz_dir.glob(\"*.xyz\"))\n",
    "max_atoms = max(len(read(f)) for f in xyz_files)\n",
    "print(\"Le nombre d'atome max pour une molécule est de : \", max_atoms)\n",
    "\n",
    "cm_gen = CoulombMatrix(n_atoms_max=max_atoms, permutation=\"sorted_l2\")\n",
    "\n",
    "coulomb_matrices = []\n",
    "energies = []\n",
    "\n",
    "for xyz_file in xyz_files:\n",
    "    atoms = read(xyz_file)\n",
    "    cm = cm_gen.create(atoms)\n",
    "    coulomb_matrices.append(cm.flatten())\n",
    "\n",
    "    mol_id = int(xyz_file.stem.split('_')[-1])\n",
    "\n",
    "    energy_row = energy_data.loc[energy_data['id'] == mol_id, 'energy']\n",
    "    energies.append(energy_row.values[0])\n",
    "\n",
    "X = np.array(coulomb_matrices)\n",
    "Y = np.array(energies)\n"
   ]
  },
  {
   "cell_type": "code",
   "execution_count": null,
   "id": "ef0e55d5",
   "metadata": {},
   "outputs": [
    {
     "name": "stdout",
     "output_type": "stream",
     "text": [
      "\n",
      "Linear Regression\n",
      "  MAE  : 1.0795\n",
      "  RMSE : 1.4305\n",
      "  R²   : 0.9852\n",
      "\n",
      "Ridge Regression\n",
      "  MAE  : 1.0783\n",
      "  RMSE : 1.4373\n",
      "  R²   : 0.9850\n"
     ]
    }
   ],
   "source": [
    "import numpy as np\n",
    "import matplotlib.pyplot as plt\n",
    "from sklearn.model_selection import train_test_split\n",
    "from sklearn.linear_model import LinearRegression, Ridge\n",
    "from sklearn.ensemble import RandomForestRegressor, GradientBoostingRegressor\n",
    "from sklearn.metrics import root_mean_squared_error, r2_score, mean_absolute_error\n",
    "from xgboost import XGBRegressor\n",
    "\n",
    "X_train, X_test, y_train, y_test = train_test_split(X, Y, test_size=0.2, random_state=42)\n",
    "\n",
    "models = {\n",
    "    \"Linear Regression\": LinearRegression(),\n",
    "    \"Ridge Regression\": Ridge(alpha=1.0),\n",
    "    \"Random Forest\": RandomForestRegressor(n_estimators=100, random_state=42),\n",
    "    \"Gradient Boosting\": GradientBoostingRegressor(n_estimators=100, random_state=42),\n",
    "    \"XGBoost\": XGBRegressor(tree_method=\"hist\", device=\"cpu\")\n",
    "}\n",
    "\n",
    "results = {}\n",
    "\n",
    "for name, model in models.items():\n",
    "    model.fit(X_train, y_train)\n",
    "    y_pred = model.predict(X_test)\n",
    "\n",
    "    mae = mean_absolute_error(y_test, y_pred)\n",
    "    rmse = root_mean_squared_error(y_test, y_pred)\n",
    "    r2 = r2_score(y_test, y_pred)\n",
    "\n",
    "    results[name] = {\n",
    "        \"mae\": mae,\n",
    "        \"rmse\": rmse,\n",
    "        \"r2\": r2,\n",
    "        \"y_pred\": y_pred\n",
    "    }\n",
    "\n",
    "    # Affichage des métriques\n",
    "    print(f\"\\n{name}\")\n",
    "    print(f\"  MAE  : {mae:.4f}\")\n",
    "    print(f\"  RMSE : {rmse:.4f}\")\n",
    "    print(f\"  R²   : {r2:.4f}\")\n",
    "\n",
    "# 🔍 Plot prédictions vs vraies valeurs\n",
    "plt.figure(figsize=(14, 6))\n",
    "for i, (name, res) in enumerate(results.items(), start=1):\n",
    "    plt.subplot(2, 3, i)\n",
    "    plt.scatter(y_test, res[\"y_pred\"], alpha=0.5)\n",
    "    plt.plot([y_test.min(), y_test.max()], [y_test.min(), y_test.max()], '--', color='red')\n",
    "    plt.xlabel(\"Valeurs réelles\")\n",
    "    plt.ylabel(\"Prédictions\")\n",
    "    plt.title(name)\n",
    "plt.tight_layout()\n",
    "plt.show()\n"
   ]
  },
  {
   "cell_type": "code",
   "execution_count": null,
   "id": "2e471f27",
   "metadata": {},
   "outputs": [],
   "source": []
  }
 ],
 "metadata": {
  "kernelspec": {
   "display_name": "base",
   "language": "python",
   "name": "python3"
  },
  "language_info": {
   "codemirror_mode": {
    "name": "ipython",
    "version": 3
   },
   "file_extension": ".py",
   "mimetype": "text/x-python",
   "name": "python",
   "nbconvert_exporter": "python",
   "pygments_lexer": "ipython3",
   "version": "3.10.17"
  }
 },
 "nbformat": 4,
 "nbformat_minor": 5
}
