{
 "cells": [
  {
   "cell_type": "code",
   "execution_count": 1,
   "metadata": {},
   "outputs": [],
   "source": [
    "import torch\n",
    "import torch.nn as nn\n",
    "import torch.nn.functional as F\n",
    "import numpy as np"
   ]
  },
  {
   "cell_type": "code",
   "execution_count": 2,
   "metadata": {},
   "outputs": [],
   "source": [
    "import sys\n",
    "import os\n",
    "sys.path.append(os.path.abspath(\"..\"))\n",
    "from utils_project import generate_csv,create_dataframe_from_xyz_files,create_X_y_from_dataframe\n",
    "\n",
    "\n",
    "csv_path = \"../../data/energies/train.csv\"\n",
    "path_data = \"../../data/atoms/train\"\n",
    "df_train=create_dataframe_from_xyz_files(path_data,csv_path,inv_only=True)\n",
    "X=df_train[['positions', 'energy', 'charges']]\n",
    "\n",
    "qm7 = X.to_dict(\"list\")\n",
    "\n",
    "#qm7 = fetch_qm7(align=True)\n",
    "pos = np.array(qm7['positions'])\n",
    "full_charges = np.array(qm7['charges'])\n",
    "\n",
    "n_molecules = pos.shape[0]"
   ]
  },
  {
   "cell_type": "code",
   "execution_count": 3,
   "metadata": {},
   "outputs": [
    {
     "name": "stdout",
     "output_type": "stream",
     "text": [
      "cuda\n"
     ]
    }
   ],
   "source": [
    "use_cuda = torch.cuda.is_available()\n",
    "device = torch.device(\"cuda\" if use_cuda else \"cpu\")\n",
    "print(device)"
   ]
  },
  {
   "cell_type": "code",
   "execution_count": 10,
   "metadata": {},
   "outputs": [],
   "source": [
    "M, N, O = 64, 64, 64 #192, 128, 96\n",
    "grille = \"64-64-64\"\n",
    "grille1 = \"96-64-48\"\n",
    "\n",
    "grid = np.mgrid[-M//2:-M//2+M, -N//2:-N//2+N, -O//2:-O//2+O]\n",
    "grid = np.fft.ifftshift(grid)\n"
   ]
  },
  {
   "cell_type": "code",
   "execution_count": 11,
   "metadata": {},
   "outputs": [
    {
     "name": "stdout",
     "output_type": "stream",
     "text": [
      "(6591, 300)\n"
     ]
    }
   ],
   "source": [
    "# saved_data = torch.load( f'../models_scattering/scattering_outputs_{grille}.pt', map_location=device)\n",
    "# order_0 = saved_data['order_0']\n",
    "# orders_1_and_2 = saved_data['orders_1_and_2']\n",
    "# order_0 = order_0.cpu().numpy()\n",
    "# orders_1_and_2 = orders_1_and_2.cpu().numpy()\n",
    "\n",
    "# order_0 = order_0.reshape((n_molecules, -1))\n",
    "# orders_1_and_2 = orders_1_and_2.reshape((n_molecules, -1))\n",
    "# scattering_coef = np.concatenate([order_0, orders_1_and_2], axis=1)\n",
    "# target = qm7['energy']\n",
    "\n",
    "def load_scattering(gril, device, n_molecules):\n",
    "    saved_data = torch.load(f'../models_scattering/scattering_outputs_{gril}.pt', map_location=device)\n",
    "    order_0 = saved_data['order_0'].cpu().numpy().reshape((n_molecules, -1))\n",
    "    orders_1_and_2 = saved_data['orders_1_and_2'].cpu().numpy().reshape((n_molecules, -1))\n",
    "    return np.concatenate([order_0, orders_1_and_2], axis=1)\n",
    "\n",
    "scattering_16 = load_scattering(\"16-16-16\", device, n_molecules)\n",
    "scattering_32= load_scattering(\"32-32-32\", device, n_molecules)\n",
    "scattering_1 = load_scattering(grille1, device, n_molecules)\n",
    "scattering_64 = load_scattering(grille, device, n_molecules)\n",
    "\n",
    "print(scattering_64.shape)\n",
    "# Concaténation horizontale (par feature)\n",
    "scattering_coef = np.concatenate([scattering_64,scattering_1,scattering_32], axis=1)\n",
    "\n",
    "# Optionnel : garder la cible (énergie)\n",
    "target = qm7['energy']"
   ]
  },
  {
   "cell_type": "code",
   "execution_count": 12,
   "metadata": {},
   "outputs": [
    {
     "name": "stdout",
     "output_type": "stream",
     "text": [
      "Shape extra features: (6591, 36)\n"
     ]
    }
   ],
   "source": [
    "meta_cols = ['id', 'energy','positions','charges']  # Colonnes à ne pas inclure\n",
    "extra_features = df_train.drop(columns=meta_cols, errors='ignore')\n",
    "\n",
    "# 4. Convertir les features pandas en numpy\n",
    "extra_features_np = extra_features.to_numpy()\n",
    "print(f\"Shape extra features: {extra_features_np.shape}\")\n",
    "\n",
    "# 5. Concaténation finale\n",
    "all_features = np.concatenate([scattering_coef, extra_features_np], axis=1)"
   ]
  },
  {
   "cell_type": "code",
   "execution_count": 13,
   "metadata": {},
   "outputs": [],
   "source": [
    "n_folds = 3\n",
    "\n",
    "P = np.random.permutation(n_molecules).reshape((n_folds, -1))\n",
    "\n",
    "cross_val_folds = []\n",
    "\n",
    "for i_fold in range(n_folds):\n",
    "    fold = (np.concatenate(P[np.arange(n_folds) != i_fold], axis=0),\n",
    "            P[i_fold])\n",
    "    cross_val_folds.append(fold)"
   ]
  },
  {
   "cell_type": "code",
   "execution_count": 14,
   "metadata": {},
   "outputs": [],
   "source": [
    "class ElementwiseProd(nn.Module):\n",
    "    def __init__(self, input_dim, q, k, act='sigmoid'):\n",
    "        super().__init__()\n",
    "        self.q = q\n",
    "        self.k = k\n",
    "        \n",
    "        # Sélection de la fonction d'activation\n",
    "        if act == 'sigmoid':\n",
    "            self.activation = torch.sigmoid\n",
    "        elif act == 'tanh':\n",
    "            self.activation = torch.tanh\n",
    "        elif act == 'relu':\n",
    "            self.activation = F.relu\n",
    "        else:\n",
    "            raise ValueError(f\"Activation '{act}' non supportée.\")\n",
    "        \n",
    "        # Création des k couches linéaires\n",
    "        self.hidden_layers = nn.ModuleList([\n",
    "            nn.Linear(input_dim, q) for _ in range(k)\n",
    "        ])\n",
    "\n",
    "    def forward(self, x):\n",
    "        output = torch.ones(x.size(0), self.q, device=x.device)\n",
    "        for layer in self.hidden_layers:\n",
    "            out = self.activation(layer(x))\n",
    "            output *= out  # Produit élément par élément\n",
    "        return output\n",
    "\n",
    "from sklearn.base import BaseEstimator, RegressorMixin\n",
    "import torch\n",
    "import torch.nn as nn\n",
    "import torch.optim as optim\n",
    "\n",
    "class ElementwiseProdRegressor(BaseEstimator, RegressorMixin):\n",
    "    def __init__(self, input_dim=1, q=10, k=3, act='sigmoid', epochs=100, lr=1e-3, verbose=False):\n",
    "        self.input_dim = input_dim\n",
    "        self.q = q\n",
    "        self.k = k\n",
    "        self.act = act\n",
    "        self.epochs = epochs\n",
    "        self.lr = lr\n",
    "        self.verbose = verbose\n",
    "        self.device = torch.device('cuda' if torch.cuda.is_available() else 'cpu')\n",
    "        self._build_model()\n",
    "\n",
    "    def _build_model(self):\n",
    "        class FullModel(nn.Module):\n",
    "            def __init__(self, input_dim, q, k, act):\n",
    "                super().__init__()\n",
    "                self.core = ElementwiseProd(input_dim, q, k, act)\n",
    "                self.output = nn.Linear(q, 1)\n",
    "            \n",
    "            def forward(self, x):\n",
    "                x = self.core(x)\n",
    "                x = self.output(x)\n",
    "                return x\n",
    "        \n",
    "        self.model = FullModel(self.input_dim, self.q, self.k, self.act).to(self.device)\n",
    "\n",
    "    def fit(self, X, y):\n",
    "        X = torch.tensor(X, dtype=torch.float32).to(self.device)\n",
    "        y = torch.tensor(y, dtype=torch.float32).view(-1, 1).to(self.device)\n",
    "\n",
    "        criterion = nn.MSELoss()\n",
    "        optimizer = optim.Adam(self.model.parameters(), lr=self.lr)\n",
    "\n",
    "        self.model.train()\n",
    "        for epoch in range(self.epochs):\n",
    "            optimizer.zero_grad()\n",
    "            output = self.model(X)\n",
    "            loss = criterion(output, y)\n",
    "            loss.backward()\n",
    "            optimizer.step()\n",
    "            if self.verbose and epoch % 10 == 0:\n",
    "                print(f\"Epoch {epoch}, Loss: {loss.item():.4f}\")\n",
    "        return self\n",
    "\n",
    "    def predict(self, X):\n",
    "        self.model.eval()\n",
    "        X = torch.tensor(X, dtype=torch.float32).to(self.device)\n",
    "        with torch.no_grad():\n",
    "            output = self.model(X)\n",
    "        return output.cpu().numpy().flatten()\n"
   ]
  },
  {
   "cell_type": "code",
   "execution_count": 15,
   "metadata": {},
   "outputs": [
    {
     "name": "stdout",
     "output_type": "stream",
     "text": [
      "Ridge Regression with alpha=0.000001: MAE: 0.10811650533129939, RMSE: 0.9650277265840086\n",
      "Ridge Regression with alpha=0.00001: MAE: 0.11745377096239198, RMSE: 1.2800857875842233\n",
      "Ridge Regression with alpha=0.0001: MAE: 0.11797133855146712, RMSE: 1.1568754257439517\n",
      "Ridge Regression with alpha=0.001: MAE: 0.11869727952004207, RMSE: 0.9127008703261875\n",
      "Ridge Regression with alpha=0.01: MAE: 0.12863494047012597, RMSE: 0.7805401213436096\n",
      "Ridge Regression with alpha=0.1: MAE: 0.14390499797111928, RMSE: 0.5920822968242887\n",
      "Ridge Regression with alpha=1: MAE: 0.1739451321548111, RMSE: 0.3679754429735754\n",
      "Ridge Regression with alpha=10: MAE: 0.256714543638282, RMSE: 0.37486298039046084\n",
      "Le meilleur modèle est Ridge Regression with alpha=1 avec un RMSE de 0.3679754429735754.\n"
     ]
    }
   ],
   "source": [
    "import numpy as np\n",
    "from sklearn import linear_model, preprocessing, pipeline, model_selection\n",
    "from sklearn.neural_network import MLPRegressor\n",
    "from sklearn.ensemble import RandomForestRegressor\n",
    "from sklearn.svm import SVR\n",
    "from xgboost import XGBRegressor\n",
    "import joblib\n",
    "\n",
    "# Supposons que scattering_coef et target soient déjà définis\n",
    "\n",
    "# Liste des modèles à tester\n",
    "models = [\n",
    "    (\"Ridge Regression with alpha=0.000001\", linear_model.Ridge(alpha=0.000001)),\n",
    "    (\"Ridge Regression with alpha=0.00001\", linear_model.Ridge(alpha=0.00001)),\n",
    "    (\"Ridge Regression with alpha=0.0001\", linear_model.Ridge(alpha=0.0001)),\n",
    "    (\"Ridge Regression with alpha=0.001\", linear_model.Ridge(alpha=0.001)),\n",
    "    (\"Ridge Regression with alpha=0.01\", linear_model.Ridge(alpha=0.01)),\n",
    "    (\"Ridge Regression with alpha=0.1\", linear_model.Ridge(alpha=0.1)),\n",
    "    (\"Ridge Regression with alpha=1\", linear_model.Ridge(alpha=1)),\n",
    "    (\"Ridge Regression with alpha=10\", linear_model.Ridge(alpha=10)),\n",
    "    # (\"Lasso Regression\", linear_model.Lasso()),\n",
    "    # (\"ElasticNet Regression\", linear_model.ElasticNet()),\n",
    "    # #(\"Random Forest Regression\", RandomForestRegressor()),\n",
    "    # ('ElementwiseProdRegressor',ElementwiseProdRegressor(input_dim=all_features.shape[1], q=1000, k=3, epochs=1000, lr=2e-2)),\n",
    "    # (\"Support Vector Regression\", SVR()),\n",
    "    # (\"XGBoost Regression\", XGBRegressor()),\n",
    "    # (\"MLP Regressor\", MLPRegressor(random_state=1, max_iter=2000, tol=0.1))\n",
    "]\n",
    "\n",
    "results = []\n",
    "\n",
    "for name, model in models:\n",
    "    scaler = preprocessing.StandardScaler()\n",
    "    regressor = pipeline.make_pipeline(scaler, model)\n",
    "\n",
    "    target_prediction = model_selection.cross_val_predict(regressor, X=all_features, y=target, cv=cross_val_folds)\n",
    "\n",
    "    MAE = np.mean(np.abs(target_prediction - target))\n",
    "    RMSE = np.sqrt(np.mean((target_prediction - target) ** 2))\n",
    "\n",
    "    results.append((name, model, MAE, RMSE))\n",
    "\n",
    "    print('{}: MAE: {}, RMSE: {}'.format(name, MAE, RMSE))\n",
    "\n",
    "# Trouver le modèle avec le RMSE le plus bas\n",
    "best_result = min(results, key=lambda x: x[3])\n",
    "best_model_name, best_model, best_mae, best_rmse = best_result\n",
    "\n",
    "print(f\"Le meilleur modèle est {best_model_name} avec un RMSE de {best_rmse}.\")"
   ]
  },
  {
   "cell_type": "code",
   "execution_count": 10,
   "metadata": {},
   "outputs": [
    {
     "data": {
      "text/plain": [
       "['../models_scattering/best_model_all_features_64-64-64_96-64-48.pkl']"
      ]
     },
     "execution_count": 10,
     "metadata": {},
     "output_type": "execute_result"
    }
   ],
   "source": [
    "scaler = preprocessing.StandardScaler()\n",
    "best_regressor = pipeline.make_pipeline(scaler, best_model)\n",
    "best_regressor.fit(all_features, target)\n",
    "\n",
    "# Enregistrer le meilleur modèle\n",
    "joblib.dump(best_regressor, f'../models_scattering/best_model_all_features_{grille}_{grille1}.pkl')"
   ]
  },
  {
   "cell_type": "code",
   "execution_count": 11,
   "metadata": {},
   "outputs": [],
   "source": [
    "csv_path = None\n",
    "path_data = \"../../data/atoms/test\"\n",
    "df_test=create_dataframe_from_xyz_files(path_data,csv_path,inv_only=True)\n",
    "\n",
    "X=df_test[['positions', 'charges','id']]\n",
    "qm7 = X.to_dict(\"list\")\n",
    "\n",
    "#qm7 = fetch_qm7(align=True)\n",
    "pos = np.array(qm7['positions'])\n",
    "full_charges = np.array(qm7['charges'])\n",
    "\n",
    "n_molecules = pos.shape[0]"
   ]
  },
  {
   "cell_type": "code",
   "execution_count": 12,
   "metadata": {},
   "outputs": [],
   "source": [
    "# def load_scattering_test(gril, device, n_molecules):\n",
    "#     saved_data = torch.load(f'../models_scattering/scattering_test_outputs_{gril}.pt', map_location=device)\n",
    "#     order_0 = saved_data['order_0'].cpu().numpy().reshape((n_molecules, -1))\n",
    "#     orders_1_and_2 = saved_data['orders_1_and_2'].cpu().numpy().reshape((n_molecules, -1))\n",
    "#     return np.concatenate([order_0, orders_1_and_2], axis=1)\n",
    "\n",
    "# # scattering_16 = load_scattering(\"16-16-16\", device, n_molecules)\n",
    "# # scattering_32= load_scattering(\"32-32-32\", device, n_molecules)\n",
    "# scattering_1 = load_scattering(grille1, device, n_molecules)\n",
    "# scattering_64 = load_scattering(grille, device, n_molecules)\n",
    "\n",
    "# # Concaténation horizontale (par feature)\n",
    "# scattering_coef = np.concatenate([scattering_64,scattering_1], axis=1)\n",
    "\n",
    "# # Optionnel : garder la cible (énergie)\n",
    "# target = qm7['energy']"
   ]
  },
  {
   "cell_type": "code",
   "execution_count": 13,
   "metadata": {},
   "outputs": [],
   "source": [
    "saved_data = torch.load( f'../models_scattering/scattering_outputs_test_{grille}.pt', map_location=device)\n",
    "order_0 = saved_data['order_0']\n",
    "orders_1_and_2 = saved_data['orders_1_and_2']\n",
    "\n",
    "order_0 = order_0.cpu().numpy()\n",
    "orders_1_and_2 = orders_1_and_2.cpu().numpy()\n",
    "\n",
    "order_0 = order_0.reshape((n_molecules, -1))\n",
    "orders_1_and_2 = orders_1_and_2.reshape((n_molecules, -1))\n",
    "\n",
    "scattering_coef_64 = np.concatenate([order_0, orders_1_and_2], axis=1)\n",
    "\n",
    "saved_data = torch.load( f'../models_scattering/scattering_outputs_test_{grille1}.pt', map_location=device)\n",
    "order_0 = saved_data['order_0']\n",
    "orders_1_and_2 = saved_data['orders_1_and_2']\n",
    "\n",
    "order_0 = order_0.cpu().numpy()\n",
    "orders_1_and_2 = orders_1_and_2.cpu().numpy()\n",
    "\n",
    "order_0 = order_0.reshape((n_molecules, -1))\n",
    "orders_1_and_2 = orders_1_and_2.reshape((n_molecules, -1))\n",
    "\n",
    "scattering_coef_1 = np.concatenate([order_0, orders_1_and_2], axis=1)\n",
    "\n",
    "scattering_coef = np.concatenate([scattering_coef_64,scattering_coef_1], axis=1)"
   ]
  },
  {
   "cell_type": "code",
   "execution_count": 14,
   "metadata": {},
   "outputs": [
    {
     "name": "stdout",
     "output_type": "stream",
     "text": [
      "Shape extra features: (1647, 36)\n"
     ]
    }
   ],
   "source": [
    "meta_cols = ['id', 'energy','positions','charges']  # Colonnes à ne pas inclure\n",
    "extra_features = df_test.drop(columns=meta_cols, errors='ignore')\n",
    "\n",
    "# 4. Convertir les features pandas en numpy\n",
    "extra_features_np = extra_features.to_numpy()\n",
    "print(f\"Shape extra features: {extra_features_np.shape}\")\n",
    "\n",
    "# 5. Concaténation finale\n",
    "all_features = np.concatenate([scattering_coef, extra_features_np], axis=1)"
   ]
  },
  {
   "cell_type": "code",
   "execution_count": 15,
   "metadata": {},
   "outputs": [],
   "source": [
    "import joblib\n",
    "\n",
    "# Charger le modèle enregistré\n",
    "model = joblib.load(f'../models_scattering/best_model_all_features_{grille}_{grille1}.pkl')\n",
    "y_pred = model.predict(all_features)\n",
    "\n",
    "generate_csv(df_test['id'],y_pred,f'best_multiscat_{grille}_{grille1}')"
   ]
  }
 ],
 "metadata": {
  "kernelspec": {
   "display_name": "Python 3",
   "language": "python",
   "name": "python3"
  },
  "language_info": {
   "codemirror_mode": {
    "name": "ipython",
    "version": 3
   },
   "file_extension": ".py",
   "mimetype": "text/x-python",
   "name": "python",
   "nbconvert_exporter": "python",
   "pygments_lexer": "ipython3",
   "version": "3.10.12"
  }
 },
 "nbformat": 4,
 "nbformat_minor": 2
}
