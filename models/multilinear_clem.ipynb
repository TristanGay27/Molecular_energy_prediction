{
 "cells": [
  {
   "cell_type": "code",
   "execution_count": 1,
   "metadata": {},
   "outputs": [],
   "source": [
    "import torch\n",
    "torch.cuda.empty_cache()\n"
   ]
  },
  {
   "cell_type": "code",
   "execution_count": 2,
   "metadata": {},
   "outputs": [],
   "source": [
    "import torch\n",
    "import torch.nn as nn\n",
    "import torch.nn.functional as F\n",
    "import numpy as np"
   ]
  },
  {
   "cell_type": "code",
   "execution_count": 3,
   "metadata": {},
   "outputs": [],
   "source": [
    "import sys\n",
    "import os\n",
    "sys.path.append(os.path.abspath(\"..\"))\n",
    "from utils_project import generate_csv,create_dataframe_from_xyz_files,create_X_y_from_dataframe\n",
    "\n",
    "\n",
    "csv_path = \"../../data/energies/train.csv\"\n",
    "path_data = \"../../data/atoms/train\"\n",
    "df_train=create_dataframe_from_xyz_files(path_data,csv_path)\n",
    "X=df_train[['positions', 'energy', 'charges']]\n",
    "\n",
    "qm7 = X.to_dict(\"list\")\n",
    "\n",
    "#qm7 = fetch_qm7(align=True)\n",
    "pos = np.array(qm7['positions'])\n",
    "full_charges = np.array(qm7['charges'])\n",
    "\n",
    "n_molecules = pos.shape[0]"
   ]
  },
  {
   "cell_type": "code",
   "execution_count": 4,
   "metadata": {},
   "outputs": [],
   "source": [
    "# class ElementwiseProd(nn.Module):\n",
    "#     def __init__(self, input_dim, q, k, act='sigmoid'):\n",
    "#         super().__init__()\n",
    "#         self.q = q\n",
    "#         self.k = k\n",
    "        \n",
    "#         # Sélection de la fonction d'activation\n",
    "#         if act == 'sigmoid':\n",
    "#             self.activation = torch.sigmoid\n",
    "#         elif act == 'tanh':\n",
    "#             self.activation = torch.tanh\n",
    "#         elif act == 'relu':\n",
    "#             self.activation = F.relu\n",
    "#         else:\n",
    "#             raise ValueError(f\"Activation '{act}' non supportée.\")\n",
    "        \n",
    "#         # Création des k couches linéaires\n",
    "#         self.hidden_layers = nn.ModuleList([\n",
    "#             nn.Linear(input_dim, q) for _ in range(k)\n",
    "#         ])\n",
    "\n",
    "#     def forward(self, x):\n",
    "#         output = torch.ones(x.size(0), self.q, device=x.device)\n",
    "#         for layer in self.hidden_layers:\n",
    "#             out = self.activation(layer(x))\n",
    "#             output *= out  # Produit élément par élément\n",
    "#         return output\n",
    "\n",
    "import torch\n",
    "import torch.nn as nn\n",
    "import torch.nn.functional as F\n",
    "\n",
    "class ElementwiseProd(nn.Module):\n",
    "    def __init__(self, input_dim, q, k, act='relu'):\n",
    "        super(ElementwiseProd, self).__init__()\n",
    "        self.q = q\n",
    "        self.k = k\n",
    "        self.act = act.lower()\n",
    "\n",
    "        # Crée k couches linéaires de sortie q\n",
    "        self.hidden_layers = nn.ModuleList([\n",
    "            nn.Linear(input_dim, q) for _ in range(k)\n",
    "        ])\n",
    "\n",
    "    def forward(self, x):\n",
    "        # Initialiser le produit avec des 1\n",
    "        output = torch.ones((x.size(0), self.q), device=x.device)\n",
    "\n",
    "        # Appliquer chaque couche suivie de l'activation\n",
    "        for layer in self.hidden_layers:\n",
    "            y = layer(x)\n",
    "            y = self._apply_activation(y)\n",
    "            output *= y  # Produit élément par élément\n",
    "\n",
    "        return output\n",
    "\n",
    "    def _apply_activation(self, x):\n",
    "        if self.act == 'relu':\n",
    "            return F.relu(x)\n",
    "        elif self.act == 'sigmoid':\n",
    "            return torch.sigmoid(x)\n",
    "        elif self.act == 'tanh':\n",
    "            return torch.tanh(x)\n",
    "        else:\n",
    "            raise ValueError(f\"Activation '{self.act}' non prise en charge.\")\n"
   ]
  },
  {
   "cell_type": "code",
   "execution_count": 5,
   "metadata": {},
   "outputs": [],
   "source": [
    "from sklearn.base import BaseEstimator, RegressorMixin\n",
    "import torch\n",
    "import torch.nn as nn\n",
    "import torch.optim as optim\n",
    "\n",
    "class ElementwiseProdRegressor(BaseEstimator, RegressorMixin):\n",
    "    def __init__(self, input_dim=1, q=10, k=3, act='sigmoid', epochs=100, lr=1e-3, verbose=False):\n",
    "        self.input_dim = input_dim\n",
    "        self.q = q\n",
    "        self.k = k\n",
    "        self.act = act\n",
    "        self.epochs = epochs\n",
    "        self.lr = lr\n",
    "        self.verbose = verbose\n",
    "        self.device = torch.device('cuda' if torch.cuda.is_available() else 'cpu')\n",
    "        self._build_model()\n",
    "\n",
    "    def _build_model(self):\n",
    "        class FullModel(nn.Module):\n",
    "            def __init__(self, input_dim, q, k, act):\n",
    "                super().__init__()\n",
    "                self.core = ElementwiseProd(input_dim, q, k, act)\n",
    "                self.output = nn.Linear(q, 1)\n",
    "            \n",
    "            def forward(self, x):\n",
    "                x = self.core(x)\n",
    "                x = self.output(x)\n",
    "                return x\n",
    "        \n",
    "        self.model = FullModel(self.input_dim, self.q, self.k, self.act).to(self.device)\n",
    "\n",
    "    def fit(self, X, y):\n",
    "        X = torch.tensor(X, dtype=torch.float32).to(self.device)\n",
    "        y = torch.tensor(y, dtype=torch.float32).view(-1, 1).to(self.device)\n",
    "\n",
    "        criterion = nn.MSELoss()\n",
    "        optimizer = optim.SGD(self.model.parameters(), lr=self.lr)\n",
    "\n",
    "        self.model.train()\n",
    "        for epoch in range(self.epochs):\n",
    "            optimizer.zero_grad()\n",
    "            output = self.model(X)\n",
    "            loss = criterion(output, y)\n",
    "            loss.backward()\n",
    "            optimizer.step()\n",
    "            if self.verbose and epoch % 10 == 0:\n",
    "                print(f\"Epoch {epoch}, Loss: {loss.item():.4f}\")\n",
    "        return self\n",
    "\n",
    "    def predict(self, X):\n",
    "        self.model.eval()\n",
    "        X = torch.tensor(X, dtype=torch.float32).to(self.device)\n",
    "        with torch.no_grad():\n",
    "            output = self.model(X)\n",
    "        return output.cpu().numpy().flatten()\n"
   ]
  },
  {
   "cell_type": "code",
   "execution_count": 6,
   "metadata": {},
   "outputs": [],
   "source": [
    "M, N, O = 64, 64, 64 #192, 128, 96\n",
    "grille = \"64-64-64\"\n",
    "grid = np.mgrid[-M//2:-M//2+M, -N//2:-N//2+N, -O//2:-O//2+O]\n",
    "grid = np.fft.ifftshift(grid)"
   ]
  },
  {
   "cell_type": "code",
   "execution_count": 7,
   "metadata": {},
   "outputs": [
    {
     "name": "stdout",
     "output_type": "stream",
     "text": [
      "cuda\n"
     ]
    }
   ],
   "source": [
    "use_cuda = torch.cuda.is_available()\n",
    "device = torch.device(\"cuda\" if use_cuda else \"cpu\")\n",
    "print(device)"
   ]
  },
  {
   "cell_type": "code",
   "execution_count": 8,
   "metadata": {},
   "outputs": [],
   "source": [
    "saved_data = torch.load( f'../models_scattering/scattering_outputs_{grille}.pt', map_location=device)\n",
    "order_0 = saved_data['order_0']\n",
    "orders_1_and_2 = saved_data['orders_1_and_2']\n",
    "order_0 = order_0.cpu().numpy()\n",
    "orders_1_and_2 = orders_1_and_2.cpu().numpy()\n",
    "\n",
    "order_0 = order_0.reshape((n_molecules, -1))\n",
    "orders_1_and_2 = orders_1_and_2.reshape((n_molecules, -1))\n",
    "scattering_coef = np.concatenate([order_0, orders_1_and_2], axis=1)\n",
    "target = qm7['energy']\n",
    "\n"
   ]
  },
  {
   "cell_type": "code",
   "execution_count": 9,
   "metadata": {},
   "outputs": [
    {
     "name": "stderr",
     "output_type": "stream",
     "text": [
      "/home/gris/miniforge3/lib/python3.10/site-packages/sklearn/linear_model/_ridge.py:213: LinAlgWarning: Ill-conditioned matrix (rcond=1.99365e-08): result may not be accurate.\n",
      "  return linalg.solve(A, Xy, assume_a=\"pos\", overwrite_a=True).T\n",
      "/home/gris/miniforge3/lib/python3.10/site-packages/sklearn/linear_model/_ridge.py:213: LinAlgWarning: Ill-conditioned matrix (rcond=1.96524e-08): result may not be accurate.\n",
      "  return linalg.solve(A, Xy, assume_a=\"pos\", overwrite_a=True).T\n",
      "/home/gris/miniforge3/lib/python3.10/site-packages/sklearn/linear_model/_ridge.py:213: LinAlgWarning: Ill-conditioned matrix (rcond=1.97138e-08): result may not be accurate.\n",
      "  return linalg.solve(A, Xy, assume_a=\"pos\", overwrite_a=True).T\n",
      "/home/gris/miniforge3/lib/python3.10/site-packages/sklearn/linear_model/_ridge.py:213: LinAlgWarning: Ill-conditioned matrix (rcond=1.77525e-08): result may not be accurate.\n",
      "  return linalg.solve(A, Xy, assume_a=\"pos\", overwrite_a=True).T\n",
      "/home/gris/miniforge3/lib/python3.10/site-packages/sklearn/linear_model/_ridge.py:213: LinAlgWarning: Ill-conditioned matrix (rcond=1.95533e-08): result may not be accurate.\n",
      "  return linalg.solve(A, Xy, assume_a=\"pos\", overwrite_a=True).T\n"
     ]
    },
    {
     "name": "stdout",
     "output_type": "stream",
     "text": [
      "Ridge Regression with alpha=0.1: MAE: 9.699005882773848, RMSE: 11.965793204274958\n"
     ]
    },
    {
     "name": "stderr",
     "output_type": "stream",
     "text": [
      "/home/gris/miniforge3/lib/python3.10/site-packages/sklearn/pipeline.py:61: FutureWarning: This Pipeline instance is not fitted yet. Call 'fit' with appropriate arguments before using other methods such as transform, predict, etc. This will raise an error in 1.8 instead of the current warning.\n",
      "  warnings.warn(\n",
      "/home/gris/miniforge3/lib/python3.10/site-packages/sklearn/pipeline.py:61: FutureWarning: This Pipeline instance is not fitted yet. Call 'fit' with appropriate arguments before using other methods such as transform, predict, etc. This will raise an error in 1.8 instead of the current warning.\n",
      "  warnings.warn(\n",
      "/home/gris/miniforge3/lib/python3.10/site-packages/sklearn/pipeline.py:61: FutureWarning: This Pipeline instance is not fitted yet. Call 'fit' with appropriate arguments before using other methods such as transform, predict, etc. This will raise an error in 1.8 instead of the current warning.\n",
      "  warnings.warn(\n",
      "/home/gris/miniforge3/lib/python3.10/site-packages/sklearn/pipeline.py:61: FutureWarning: This Pipeline instance is not fitted yet. Call 'fit' with appropriate arguments before using other methods such as transform, predict, etc. This will raise an error in 1.8 instead of the current warning.\n",
      "  warnings.warn(\n"
     ]
    },
    {
     "name": "stdout",
     "output_type": "stream",
     "text": [
      "PyTorch ElementwiseProd: MAE: 9.82907639142246, RMSE: 11.964964674167323\n",
      "Le meilleur modèle est PyTorch ElementwiseProd avec un RMSE de 11.964964674167323.\n"
     ]
    },
    {
     "name": "stderr",
     "output_type": "stream",
     "text": [
      "/home/gris/miniforge3/lib/python3.10/site-packages/sklearn/pipeline.py:61: FutureWarning: This Pipeline instance is not fitted yet. Call 'fit' with appropriate arguments before using other methods such as transform, predict, etc. This will raise an error in 1.8 instead of the current warning.\n",
      "  warnings.warn(\n"
     ]
    }
   ],
   "source": [
    "import numpy as np\n",
    "from sklearn import linear_model, preprocessing, pipeline, model_selection\n",
    "from sklearn.neural_network import MLPRegressor\n",
    "from sklearn.ensemble import RandomForestRegressor\n",
    "from sklearn.svm import SVR\n",
    "from xgboost import XGBRegressor\n",
    "import joblib\n",
    "\n",
    "cross_val_folds = 5  \n",
    "\n",
    "models = [\n",
    "    (\"Ridge Regression with alpha=0.1\", linear_model.Ridge(alpha=0.1)),\n",
    "    (\"PyTorch ElementwiseProd\", ElementwiseProdRegressor(input_dim=scattering_coef.shape[1], q=1000, k=3, epochs=50, lr=1e-2))\n",
    "\n",
    "]\n",
    "\n",
    "results = []\n",
    "\n",
    "for name, model in models:\n",
    "    scaler = preprocessing.StandardScaler()\n",
    "    regressor = pipeline.make_pipeline(scaler, model)\n",
    "\n",
    "    target_prediction = model_selection.cross_val_predict(regressor, X=scattering_coef, y=target, cv=cross_val_folds)\n",
    "\n",
    "    MAE = np.mean(np.abs(target_prediction - target))\n",
    "    RMSE = np.sqrt(np.mean((target_prediction - target) ** 2))\n",
    "\n",
    "    results.append((name, model, MAE, RMSE))\n",
    "\n",
    "    print('{}: MAE: {}, RMSE: {}'.format(name, MAE, RMSE))\n",
    "\n",
    "# Trouver le modèle avec le RMSE le plus bas\n",
    "best_result = min(results, key=lambda x: x[3])\n",
    "best_model_name, best_model, best_mae, best_rmse = best_result\n",
    "\n",
    "print(f\"Le meilleur modèle est {best_model_name} avec un RMSE de {best_rmse}.\")"
   ]
  },
  {
   "cell_type": "code",
   "execution_count": 10,
   "metadata": {},
   "outputs": [
    {
     "name": "stdout",
     "output_type": "stream",
     "text": [
      "Epoch 0, Loss: 6197.5195\n",
      "Epoch 10, Loss: 4182.6445\n",
      "Epoch 20, Loss: 2837.4985\n",
      "Epoch 30, Loss: 1939.4681\n",
      "Epoch 40, Loss: 1339.9357\n",
      "Epoch 50, Loss: 939.6835\n",
      "Epoch 60, Loss: 672.4719\n",
      "Epoch 70, Loss: 494.0793\n",
      "Epoch 80, Loss: 374.9830\n",
      "Epoch 90, Loss: 295.4735\n",
      "Epoch 100, Loss: 242.3921\n",
      "Epoch 110, Loss: 206.9546\n",
      "Epoch 120, Loss: 183.2963\n",
      "Epoch 130, Loss: 167.5017\n",
      "Epoch 140, Loss: 156.9571\n",
      "Epoch 150, Loss: 149.9175\n",
      "Epoch 160, Loss: 145.2178\n",
      "Epoch 170, Loss: 142.0803\n",
      "Epoch 180, Loss: 139.9856\n",
      "Epoch 190, Loss: 138.5872\n",
      "11.732588475766077\n"
     ]
    }
   ],
   "source": [
    "model = ElementwiseProdRegressor(input_dim=scattering_coef.shape[1], q = 1000, k = 50, epochs=200, lr =1e-2, verbose=True)\n",
    "\n",
    "model.fit(scattering_coef, target)\n",
    "pred = model.predict(scattering_coef)\n",
    "\n",
    "rmse = np.sqrt(np.mean((pred - target)**2))\n",
    "print(rmse)"
   ]
  },
  {
   "cell_type": "code",
   "execution_count": null,
   "metadata": {},
   "outputs": [],
   "source": []
  }
 ],
 "metadata": {
  "kernelspec": {
   "display_name": "base",
   "language": "python",
   "name": "python3"
  },
  "language_info": {
   "codemirror_mode": {
    "name": "ipython",
    "version": 3
   },
   "file_extension": ".py",
   "mimetype": "text/x-python",
   "name": "python",
   "nbconvert_exporter": "python",
   "pygments_lexer": "ipython3",
   "version": "3.10.17"
  }
 },
 "nbformat": 4,
 "nbformat_minor": 2
}
