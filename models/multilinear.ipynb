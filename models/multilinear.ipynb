{
 "cells": [
  {
   "cell_type": "code",
   "execution_count": 4,
   "metadata": {},
   "outputs": [],
   "source": [
    "import torch\n",
    "import torch.nn as nn\n",
    "import torch.nn.functional as F\n",
    "import numpy as np"
   ]
  },
  {
   "cell_type": "code",
   "execution_count": 5,
   "metadata": {},
   "outputs": [],
   "source": [
    "import sys\n",
    "import os\n",
    "sys.path.append(os.path.abspath(\"..\"))\n",
    "from utils_project import generate_csv,create_dataframe_from_xyz_files,create_X_y_from_dataframe\n",
    "\n",
    "\n",
    "csv_path = \"../../data/energies/train.csv\"\n",
    "path_data = \"../../data/atoms/train\"\n",
    "df_train=create_dataframe_from_xyz_files(path_data,csv_path)\n",
    "X=df_train[['positions', 'energy', 'charges']]\n",
    "\n",
    "qm7 = X.to_dict(\"list\")\n",
    "\n",
    "#qm7 = fetch_qm7(align=True)\n",
    "pos = np.array(qm7['positions'])\n",
    "full_charges = np.array(qm7['charges'])\n",
    "\n",
    "n_molecules = pos.shape[0]"
   ]
  },
  {
   "cell_type": "code",
   "execution_count": 6,
   "metadata": {},
   "outputs": [],
   "source": [
    "class ElementwiseProd(nn.Module):\n",
    "    def __init__(self, input_dim, q, k, act='sigmoid'):\n",
    "        super().__init__()\n",
    "        self.q = q\n",
    "        self.k = k\n",
    "        \n",
    "        # Sélection de la fonction d'activation\n",
    "        if act == 'sigmoid':\n",
    "            self.activation = torch.sigmoid\n",
    "        elif act == 'tanh':\n",
    "            self.activation = torch.tanh\n",
    "        elif act == 'relu':\n",
    "            self.activation = F.relu\n",
    "        else:\n",
    "            raise ValueError(f\"Activation '{act}' non supportée.\")\n",
    "        \n",
    "        # Création des k couches linéaires\n",
    "        self.hidden_layers = nn.ModuleList([\n",
    "            nn.Linear(input_dim, q) for _ in range(k)\n",
    "        ])\n",
    "\n",
    "    def forward(self, x):\n",
    "        output = torch.ones(x.size(0), self.q, device=x.device)\n",
    "        for layer in self.hidden_layers:\n",
    "            out = self.activation(layer(x))\n",
    "            output *= out  # Produit élément par élément\n",
    "        return output\n"
   ]
  },
  {
   "cell_type": "code",
   "execution_count": 7,
   "metadata": {},
   "outputs": [],
   "source": [
    "from sklearn.base import BaseEstimator, RegressorMixin\n",
    "import torch\n",
    "import torch.nn as nn\n",
    "import torch.optim as optim\n",
    "\n",
    "class ElementwiseProdRegressor(BaseEstimator, RegressorMixin):\n",
    "    def __init__(self, input_dim=1, q=10, k=3, act='sigmoid', epochs=100, lr=1e-3, verbose=False):\n",
    "        self.input_dim = input_dim\n",
    "        self.q = q\n",
    "        self.k = k\n",
    "        self.act = act\n",
    "        self.epochs = epochs\n",
    "        self.lr = lr\n",
    "        self.verbose = verbose\n",
    "        self.device = torch.device('cuda' if torch.cuda.is_available() else 'cpu')\n",
    "        self._build_model()\n",
    "\n",
    "    def _build_model(self):\n",
    "        class FullModel(nn.Module):\n",
    "            def __init__(self, input_dim, q, k, act):\n",
    "                super().__init__()\n",
    "                self.core = ElementwiseProd(input_dim, q, k, act)\n",
    "                self.output = nn.Linear(q, 1)\n",
    "            \n",
    "            def forward(self, x):\n",
    "                x = self.core(x)\n",
    "                x = self.output(x)\n",
    "                return x\n",
    "        \n",
    "        self.model = FullModel(self.input_dim, self.q, self.k, self.act).to(self.device)\n",
    "\n",
    "    def fit(self, X, y):\n",
    "        X = torch.tensor(X, dtype=torch.float32).to(self.device)\n",
    "        y = torch.tensor(y, dtype=torch.float32).view(-1, 1).to(self.device)\n",
    "\n",
    "        criterion = nn.MSELoss()\n",
    "        optimizer = optim.Adam(self.model.parameters(), lr=self.lr)\n",
    "\n",
    "        self.model.train()\n",
    "        for epoch in range(self.epochs):\n",
    "            optimizer.zero_grad()\n",
    "            output = self.model(X)\n",
    "            loss = criterion(output, y)\n",
    "            loss.backward()\n",
    "            optimizer.step()\n",
    "            if self.verbose and epoch % 10 == 0:\n",
    "                print(f\"Epoch {epoch}, Loss: {loss.item():.4f}\")\n",
    "        return self\n",
    "\n",
    "    def predict(self, X):\n",
    "        self.model.eval()\n",
    "        X = torch.tensor(X, dtype=torch.float32).to(self.device)\n",
    "        with torch.no_grad():\n",
    "            output = self.model(X)\n",
    "        return output.cpu().numpy().flatten()\n"
   ]
  },
  {
   "cell_type": "code",
   "execution_count": 8,
   "metadata": {},
   "outputs": [],
   "source": [
    "M, N, O = 64, 64, 64 #192, 128, 96\n",
    "grille = \"64-64-64\"\n",
    "grid = np.mgrid[-M//2:-M//2+M, -N//2:-N//2+N, -O//2:-O//2+O]\n",
    "grid = np.fft.ifftshift(grid)"
   ]
  },
  {
   "cell_type": "code",
   "execution_count": 9,
   "metadata": {},
   "outputs": [
    {
     "name": "stdout",
     "output_type": "stream",
     "text": [
      "cpu\n"
     ]
    },
    {
     "name": "stderr",
     "output_type": "stream",
     "text": [
      "/home/tristan/.local/lib/python3.10/site-packages/torch/cuda/__init__.py:118: UserWarning: CUDA initialization: CUDA unknown error - this may be due to an incorrectly set up environment, e.g. changing env variable CUDA_VISIBLE_DEVICES after program start. Setting the available devices to be zero. (Triggered internally at ../c10/cuda/CUDAFunctions.cpp:108.)\n",
      "  return torch._C._cuda_getDeviceCount() > 0\n"
     ]
    }
   ],
   "source": [
    "use_cuda = torch.cuda.is_available()\n",
    "device = torch.device(\"cuda\" if use_cuda else \"cpu\")\n",
    "print(device)"
   ]
  },
  {
   "cell_type": "code",
   "execution_count": null,
   "metadata": {},
   "outputs": [],
   "source": [
    "saved_data = torch.load( f'../models_scattering/scattering_outputs_{grille}.pt', map_location=device)\n",
    "order_0 = saved_data['order_0']\n",
    "orders_1_and_2 = saved_data['orders_1_and_2']\n",
    "order_0 = order_0.cpu().numpy()\n",
    "orders_1_and_2 = orders_1_and_2.cpu().numpy()\n",
    "\n",
    "order_0 = order_0.reshape((n_molecules, -1))\n",
    "orders_1_and_2 = orders_1_and_2.reshape((n_molecules, -1))\n",
    "scattering_coef = np.concatenate([order_0, orders_1_and_2], axis=1)\n",
    "target = qm7['energy']\n",
    "\n"
   ]
  },
  {
   "cell_type": "code",
   "execution_count": 11,
   "metadata": {},
   "outputs": [
    {
     "ename": "NameError",
     "evalue": "name 'target' is not defined",
     "output_type": "error",
     "traceback": [
      "\u001b[0;31m---------------------------------------------------------------------------\u001b[0m",
      "\u001b[0;31mNameError\u001b[0m                                 Traceback (most recent call last)",
      "Cell \u001b[0;32mIn[11], line 25\u001b[0m\n\u001b[1;32m     22\u001b[0m scaler \u001b[38;5;241m=\u001b[39m preprocessing\u001b[38;5;241m.\u001b[39mStandardScaler()\n\u001b[1;32m     23\u001b[0m regressor \u001b[38;5;241m=\u001b[39m pipeline\u001b[38;5;241m.\u001b[39mmake_pipeline(scaler, model)\n\u001b[0;32m---> 25\u001b[0m target_prediction \u001b[38;5;241m=\u001b[39m model_selection\u001b[38;5;241m.\u001b[39mcross_val_predict(regressor, X\u001b[38;5;241m=\u001b[39mscattering_coef, y\u001b[38;5;241m=\u001b[39m\u001b[43mtarget\u001b[49m, cv\u001b[38;5;241m=\u001b[39mcross_val_folds)\n\u001b[1;32m     27\u001b[0m MAE \u001b[38;5;241m=\u001b[39m np\u001b[38;5;241m.\u001b[39mmean(np\u001b[38;5;241m.\u001b[39mabs(target_prediction \u001b[38;5;241m-\u001b[39m target))\n\u001b[1;32m     28\u001b[0m RMSE \u001b[38;5;241m=\u001b[39m np\u001b[38;5;241m.\u001b[39msqrt(np\u001b[38;5;241m.\u001b[39mmean((target_prediction \u001b[38;5;241m-\u001b[39m target) \u001b[38;5;241m*\u001b[39m\u001b[38;5;241m*\u001b[39m \u001b[38;5;241m2\u001b[39m))\n",
      "\u001b[0;31mNameError\u001b[0m: name 'target' is not defined"
     ]
    }
   ],
   "source": [
    "import numpy as np\n",
    "from sklearn import linear_model, preprocessing, pipeline, model_selection\n",
    "from sklearn.neural_network import MLPRegressor\n",
    "from sklearn.ensemble import RandomForestRegressor\n",
    "from sklearn.svm import SVR\n",
    "from xgboost import XGBRegressor\n",
    "import joblib\n",
    "\n",
    "# Supposons que scattering_coef et target soient déjà définis\n",
    "cross_val_folds = 5  # Assurez-vous que cross_val_folds est défini\n",
    "\n",
    "# Liste des modèles à tester\n",
    "models = [\n",
    "    (\"Ridge Regression with alpha=0.1\", linear_model.Ridge(alpha=0.1)),\n",
    "    (\"PyTorch ElementwiseProd\", ElementwiseProdRegressor(input_dim=scattering_coef.shape[1], q=10, k=3, epochs=200, lr=1e-2))\n",
    "\n",
    "]\n",
    "\n",
    "results = []\n",
    "\n",
    "for name, model in models:\n",
    "    scaler = preprocessing.StandardScaler()\n",
    "    regressor = pipeline.make_pipeline(scaler, model)\n",
    "\n",
    "    target_prediction = model_selection.cross_val_predict(regressor, X=scattering_coef, y=target, cv=cross_val_folds)\n",
    "\n",
    "    MAE = np.mean(np.abs(target_prediction - target))\n",
    "    RMSE = np.sqrt(np.mean((target_prediction - target) ** 2))\n",
    "\n",
    "    results.append((name, model, MAE, RMSE))\n",
    "\n",
    "    print('{}: MAE: {}, RMSE: {}'.format(name, MAE, RMSE))\n",
    "\n",
    "# Trouver le modèle avec le RMSE le plus bas\n",
    "best_result = min(results, key=lambda x: x[3])\n",
    "best_model_name, best_model, best_mae, best_rmse = best_result\n",
    "\n",
    "print(f\"Le meilleur modèle est {best_model_name} avec un RMSE de {best_rmse}.\")"
   ]
  },
  {
   "cell_type": "code",
   "execution_count": null,
   "metadata": {},
   "outputs": [],
   "source": []
  }
 ],
 "metadata": {
  "kernelspec": {
   "display_name": "Python 3",
   "language": "python",
   "name": "python3"
  },
  "language_info": {
   "codemirror_mode": {
    "name": "ipython",
    "version": 3
   },
   "file_extension": ".py",
   "mimetype": "text/x-python",
   "name": "python",
   "nbconvert_exporter": "python",
   "pygments_lexer": "ipython3",
   "version": "3.10.12"
  }
 },
 "nbformat": 4,
 "nbformat_minor": 2
}
