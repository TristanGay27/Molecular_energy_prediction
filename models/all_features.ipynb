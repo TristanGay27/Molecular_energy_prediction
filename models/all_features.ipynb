{
 "cells": [
  {
   "cell_type": "code",
   "execution_count": 1,
   "metadata": {},
   "outputs": [],
   "source": [
    "import torch\n",
    "import torch.nn as nn\n",
    "import torch.nn.functional as F\n",
    "import numpy as np"
   ]
  },
  {
   "cell_type": "code",
   "execution_count": 2,
   "metadata": {},
   "outputs": [],
   "source": [
    "import sys\n",
    "import os\n",
    "sys.path.append(os.path.abspath(\"..\"))\n",
    "from utils_project import generate_csv,create_dataframe_from_xyz_files,create_X_y_from_dataframe\n",
    "\n",
    "\n",
    "csv_path = \"../../data/energies/train.csv\"\n",
    "path_data = \"../../data/atoms/train\"\n",
    "df_train=create_dataframe_from_xyz_files(path_data,csv_path,inv_only=True)\n",
    "X=df_train[['positions', 'energy', 'charges']]\n",
    "\n",
    "qm7 = X.to_dict(\"list\")\n",
    "\n",
    "#qm7 = fetch_qm7(align=True)\n",
    "pos = np.array(qm7['positions'])\n",
    "full_charges = np.array(qm7['charges'])\n",
    "\n",
    "n_molecules = pos.shape[0]"
   ]
  },
  {
   "cell_type": "code",
   "execution_count": 3,
   "metadata": {},
   "outputs": [
    {
     "name": "stdout",
     "output_type": "stream",
     "text": [
      "cuda\n"
     ]
    }
   ],
   "source": [
    "use_cuda = torch.cuda.is_available()\n",
    "device = torch.device(\"cuda\" if use_cuda else \"cpu\")\n",
    "print(device)"
   ]
  },
  {
   "cell_type": "code",
   "execution_count": 4,
   "metadata": {},
   "outputs": [],
   "source": [
    "M, N, O = 64, 64, 64 #192, 128, 96\n",
    "grille = \"64-64-64\"\n",
    "grid = np.mgrid[-M//2:-M//2+M, -N//2:-N//2+N, -O//2:-O//2+O]\n",
    "grid = np.fft.ifftshift(grid)\n"
   ]
  },
  {
   "cell_type": "code",
   "execution_count": 5,
   "metadata": {},
   "outputs": [],
   "source": [
    "saved_data = torch.load( f'../models_scattering/scattering_outputs_{grille}.pt', map_location=device)\n",
    "order_0 = saved_data['order_0']\n",
    "orders_1_and_2 = saved_data['orders_1_and_2']\n",
    "order_0 = order_0.cpu().numpy()\n",
    "orders_1_and_2 = orders_1_and_2.cpu().numpy()\n",
    "\n",
    "order_0 = order_0.reshape((n_molecules, -1))\n",
    "orders_1_and_2 = orders_1_and_2.reshape((n_molecules, -1))\n",
    "scattering_coef = np.concatenate([order_0, orders_1_and_2], axis=1)\n",
    "target = qm7['energy']\n",
    "\n"
   ]
  },
  {
   "cell_type": "code",
   "execution_count": 6,
   "metadata": {},
   "outputs": [
    {
     "name": "stdout",
     "output_type": "stream",
     "text": [
      "Shape extra features: (6591, 24)\n"
     ]
    }
   ],
   "source": [
    "meta_cols = ['id', 'energy','positions','charges','atom_Z_16_count']  # Colonnes à ne pas inclure\n",
    "extra_features = df_train.drop(columns=meta_cols, errors='ignore')\n",
    "\n",
    "# 4. Convertir les features pandas en numpy\n",
    "extra_features_np = extra_features.to_numpy()\n",
    "print(f\"Shape extra features: {extra_features_np.shape}\")\n",
    "\n",
    "# 5. Concaténation finale\n",
    "all_features = np.concatenate([scattering_coef, extra_features_np], axis=1)"
   ]
  },
  {
   "cell_type": "code",
   "execution_count": 7,
   "metadata": {},
   "outputs": [],
   "source": [
    "n_folds = 3\n",
    "\n",
    "P = np.random.permutation(n_molecules).reshape((n_folds, -1))\n",
    "\n",
    "cross_val_folds = []\n",
    "\n",
    "for i_fold in range(n_folds):\n",
    "    fold = (np.concatenate(P[np.arange(n_folds) != i_fold], axis=0),\n",
    "            P[i_fold])\n",
    "    cross_val_folds.append(fold)"
   ]
  },
  {
   "cell_type": "code",
   "execution_count": 8,
   "metadata": {},
   "outputs": [],
   "source": [
    "class ElementwiseProd(nn.Module):\n",
    "    def __init__(self, input_dim, q, k, act='sigmoid'):\n",
    "        super().__init__()\n",
    "        self.q = q\n",
    "        self.k = k\n",
    "        \n",
    "        # Sélection de la fonction d'activation\n",
    "        if act == 'sigmoid':\n",
    "            self.activation = torch.sigmoid\n",
    "        elif act == 'tanh':\n",
    "            self.activation = torch.tanh\n",
    "        elif act == 'relu':\n",
    "            self.activation = F.relu\n",
    "        else:\n",
    "            raise ValueError(f\"Activation '{act}' non supportée.\")\n",
    "        \n",
    "        # Création des k couches linéaires\n",
    "        self.hidden_layers = nn.ModuleList([\n",
    "            nn.Linear(input_dim, q) for _ in range(k)\n",
    "        ])\n",
    "\n",
    "    def forward(self, x):\n",
    "        output = torch.ones(x.size(0), self.q, device=x.device)\n",
    "        for layer in self.hidden_layers:\n",
    "            out = self.activation(layer(x))\n",
    "            output *= out  # Produit élément par élément\n",
    "        return output\n",
    "\n",
    "from sklearn.base import BaseEstimator, RegressorMixin\n",
    "import torch\n",
    "import torch.nn as nn\n",
    "import torch.optim as optim\n",
    "\n",
    "class ElementwiseProdRegressor(BaseEstimator, RegressorMixin):\n",
    "    def __init__(self, input_dim=1, q=10, k=3, act='sigmoid', epochs=100, lr=1e-3, verbose=False):\n",
    "        self.input_dim = input_dim\n",
    "        self.q = q\n",
    "        self.k = k\n",
    "        self.act = act\n",
    "        self.epochs = epochs\n",
    "        self.lr = lr\n",
    "        self.verbose = verbose\n",
    "        self.device = torch.device('cuda' if torch.cuda.is_available() else 'cpu')\n",
    "        self._build_model()\n",
    "\n",
    "    def _build_model(self):\n",
    "        class FullModel(nn.Module):\n",
    "            def __init__(self, input_dim, q, k, act):\n",
    "                super().__init__()\n",
    "                self.core = ElementwiseProd(input_dim, q, k, act)\n",
    "                self.output = nn.Linear(q, 1)\n",
    "            \n",
    "            def forward(self, x):\n",
    "                x = self.core(x)\n",
    "                x = self.output(x)\n",
    "                return x\n",
    "        \n",
    "        self.model = FullModel(self.input_dim, self.q, self.k, self.act).to(self.device)\n",
    "\n",
    "    def fit(self, X, y):\n",
    "        X = torch.tensor(X, dtype=torch.float32).to(self.device)\n",
    "        y = torch.tensor(y, dtype=torch.float32).view(-1, 1).to(self.device)\n",
    "\n",
    "        criterion = nn.MSELoss()\n",
    "        optimizer = optim.Adam(self.model.parameters(), lr=self.lr)\n",
    "\n",
    "        self.model.train()\n",
    "        for epoch in range(self.epochs):\n",
    "            optimizer.zero_grad()\n",
    "            output = self.model(X)\n",
    "            loss = criterion(output, y)\n",
    "            loss.backward()\n",
    "            optimizer.step()\n",
    "            if self.verbose and epoch % 10 == 0:\n",
    "                print(f\"Epoch {epoch}, Loss: {loss.item():.4f}\")\n",
    "        return self\n",
    "\n",
    "    def predict(self, X):\n",
    "        self.model.eval()\n",
    "        X = torch.tensor(X, dtype=torch.float32).to(self.device)\n",
    "        with torch.no_grad():\n",
    "            output = self.model(X)\n",
    "        return output.cpu().numpy().flatten()\n"
   ]
  },
  {
   "cell_type": "code",
   "execution_count": 10,
   "metadata": {},
   "outputs": [
    {
     "name": "stdout",
     "output_type": "stream",
     "text": [
      "Ridge Regression with alpha=0.000001: MAE: 0.08445801415197944, RMSE: 0.25328012239207104\n",
      "Ridge Regression with alpha=0.00001: MAE: 0.0837710352269282, RMSE: 0.16496083954788174\n",
      "Ridge Regression with alpha=0.0001: MAE: 0.08972941092078976, RMSE: 0.1793898061733215\n",
      "Ridge Regression with alpha=0.001: MAE: 0.0991617209216421, RMSE: 0.1783667722619794\n",
      "Ridge Regression with alpha=0.01: MAE: 0.11564157863703418, RMSE: 0.21080971924888767\n",
      "Ridge Regression with alpha=0.1: MAE: 0.1387703819613177, RMSE: 0.2150951668779308\n",
      "Ridge Regression with alpha=1: MAE: 0.18065564737887996, RMSE: 0.2624037290813566\n",
      "Ridge Regression with alpha=10: MAE: 0.270762485273798, RMSE: 0.4085741765439033\n",
      "Lasso Regression: MAE: 1.928145973458486, RMSE: 2.3722755070621377\n",
      "ElasticNet Regression: MAE: 1.8559096229301562, RMSE: 2.3348436628999636\n",
      "ElementwiseProdRegressor: MAE: 0.3763373126432581, RMSE: 0.9199966732802486\n",
      "Support Vector Regression: MAE: 0.9036075834655585, RMSE: 2.115671516784985\n",
      "XGBoost Regression: MAE: 0.21574020057615265, RMSE: 0.53474857906012\n",
      "MLP Regressor: MAE: 1.6991380544775994, RMSE: 3.9585146350444624\n",
      "Le meilleur modèle est Ridge Regression with alpha=0.00001 avec un RMSE de 0.16496083954788174.\n"
     ]
    }
   ],
   "source": [
    "import numpy as np\n",
    "from sklearn import linear_model, preprocessing, pipeline, model_selection\n",
    "from sklearn.neural_network import MLPRegressor\n",
    "from sklearn.ensemble import RandomForestRegressor\n",
    "from sklearn.svm import SVR\n",
    "from xgboost import XGBRegressor\n",
    "import joblib\n",
    "\n",
    "# Supposons que scattering_coef et target soient déjà définis\n",
    "cross_val_folds = 5  # Assurez-vous que cross_val_folds est défini\n",
    "\n",
    "# Liste des modèles à tester\n",
    "models = [\n",
    "    (\"Ridge Regression with alpha=0.000001\", linear_model.Ridge(alpha=0.000001)),\n",
    "    (\"Ridge Regression with alpha=0.00001\", linear_model.Ridge(alpha=0.00001)),\n",
    "    (\"Ridge Regression with alpha=0.0001\", linear_model.Ridge(alpha=0.0001)),\n",
    "    (\"Ridge Regression with alpha=0.001\", linear_model.Ridge(alpha=0.001)),\n",
    "    (\"Ridge Regression with alpha=0.01\", linear_model.Ridge(alpha=0.01)),\n",
    "    (\"Ridge Regression with alpha=0.1\", linear_model.Ridge(alpha=0.1)),\n",
    "    (\"Ridge Regression with alpha=1\", linear_model.Ridge(alpha=1)),\n",
    "    (\"Ridge Regression with alpha=10\", linear_model.Ridge(alpha=10)),\n",
    "    (\"Lasso Regression\", linear_model.Lasso()),\n",
    "    (\"ElasticNet Regression\", linear_model.ElasticNet()),\n",
    "    #(\"Random Forest Regression\", RandomForestRegressor()),\n",
    "    ('ElementwiseProdRegressor',ElementwiseProdRegressor(input_dim=all_features.shape[1], q=1000, k=3, epochs=1000, lr=2e-2)),\n",
    "    (\"Support Vector Regression\", SVR()),\n",
    "    (\"XGBoost Regression\", XGBRegressor()),\n",
    "    (\"MLP Regressor\", MLPRegressor(random_state=1, max_iter=2000, tol=0.1))\n",
    "]\n",
    "\n",
    "results = []\n",
    "\n",
    "for name, model in models:\n",
    "    scaler = preprocessing.StandardScaler()\n",
    "    regressor = pipeline.make_pipeline(scaler, model)\n",
    "\n",
    "    target_prediction = model_selection.cross_val_predict(regressor, X=all_features, y=target, cv=cross_val_folds)\n",
    "\n",
    "    MAE = np.mean(np.abs(target_prediction - target))\n",
    "    RMSE = np.sqrt(np.mean((target_prediction - target) ** 2))\n",
    "\n",
    "    results.append((name, model, MAE, RMSE))\n",
    "\n",
    "    print('{}: MAE: {}, RMSE: {}'.format(name, MAE, RMSE))\n",
    "\n",
    "# Trouver le modèle avec le RMSE le plus bas\n",
    "best_result = min(results, key=lambda x: x[3])\n",
    "best_model_name, best_model, best_mae, best_rmse = best_result\n",
    "\n",
    "print(f\"Le meilleur modèle est {best_model_name} avec un RMSE de {best_rmse}.\")"
   ]
  },
  {
   "cell_type": "code",
   "execution_count": 9,
   "metadata": {},
   "outputs": [
    {
     "data": {
      "text/plain": [
       "['../models_scattering/best_model_all_features_64-64-64.pkl']"
      ]
     },
     "execution_count": 9,
     "metadata": {},
     "output_type": "execute_result"
    }
   ],
   "source": [
    "scaler = preprocessing.StandardScaler()\n",
    "best_regressor = pipeline.make_pipeline(scaler, best_model)\n",
    "best_regressor.fit(all_features, target)\n",
    "\n",
    "# Enregistrer le meilleur modèle\n",
    "joblib.dump(best_regressor, f'../models_scattering/best_model_all_features_{grille}.pkl')"
   ]
  },
  {
   "cell_type": "markdown",
   "metadata": {},
   "source": [
    "# Test"
   ]
  },
  {
   "cell_type": "code",
   "execution_count": 10,
   "metadata": {},
   "outputs": [],
   "source": [
    "csv_path = None\n",
    "path_data = \"../../data/atoms/test\"\n",
    "df_test=create_dataframe_from_xyz_files(path_data,csv_path,inv_only=True)\n",
    "\n",
    "X=df_test[['positions', 'charges','id']]\n",
    "qm7 = X.to_dict(\"list\")\n",
    "\n",
    "#qm7 = fetch_qm7(align=True)\n",
    "pos = np.array(qm7['positions'])\n",
    "full_charges = np.array(qm7['charges'])\n",
    "\n",
    "n_molecules = pos.shape[0]"
   ]
  },
  {
   "cell_type": "code",
   "execution_count": 11,
   "metadata": {},
   "outputs": [
    {
     "name": "stdout",
     "output_type": "stream",
     "text": [
      "Shape extra features: (1647, 24)\n"
     ]
    }
   ],
   "source": [
    "saved_data = torch.load( f'../models_scattering/scattering_outputs_test_{grille}.pt', map_location=device)\n",
    "order_0 = saved_data['order_0']\n",
    "orders_1_and_2 = saved_data['orders_1_and_2']\n",
    "\n",
    "order_0 = order_0.cpu().numpy()\n",
    "orders_1_and_2 = orders_1_and_2.cpu().numpy()\n",
    "\n",
    "order_0 = order_0.reshape((n_molecules, -1))\n",
    "orders_1_and_2 = orders_1_and_2.reshape((n_molecules, -1))\n",
    "\n",
    "scattering_coef = np.concatenate([order_0, orders_1_and_2], axis=1)\n",
    "\n",
    "meta_cols = ['id','positions','charges']  # Colonnes à ne pas inclure\n",
    "extra_features = df_test.drop(columns=meta_cols, errors='ignore')\n",
    "\n",
    "# 4. Convertir les features pandas en numpy\n",
    "extra_features_np = extra_features.to_numpy()\n",
    "print(f\"Shape extra features: {extra_features_np.shape}\")\n",
    "\n",
    "# 5. Concaténation finale\n",
    "all_features = np.concatenate([scattering_coef, extra_features_np], axis=1)"
   ]
  },
  {
   "cell_type": "code",
   "execution_count": 16,
   "metadata": {},
   "outputs": [],
   "source": [
    "import joblib\n",
    "\n",
    "# Charger le modèle enregistré\n",
    "model = joblib.load(f'../models_scattering/best_model_all_features_{grille}.pkl')\n",
    "y_pred = model.predict(all_features)\n",
    "\n",
    "generate_csv(df_test['id'],y_pred,f'best_af_v2_{grille}')"
   ]
  },
  {
   "cell_type": "code",
   "execution_count": null,
   "metadata": {},
   "outputs": [],
   "source": []
  }
 ],
 "metadata": {
  "kernelspec": {
   "display_name": "Python 3",
   "language": "python",
   "name": "python3"
  },
  "language_info": {
   "codemirror_mode": {
    "name": "ipython",
    "version": 3
   },
   "file_extension": ".py",
   "mimetype": "text/x-python",
   "name": "python",
   "nbconvert_exporter": "python",
   "pygments_lexer": "ipython3",
   "version": "3.10.12"
  }
 },
 "nbformat": 4,
 "nbformat_minor": 2
}
